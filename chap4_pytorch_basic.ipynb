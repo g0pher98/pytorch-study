{
  "nbformat": 4,
  "nbformat_minor": 0,
  "metadata": {
    "colab": {
      "provenance": [],
      "authorship_tag": "ABX9TyMnF1VOA09VAHI4kwZjcexi",
      "include_colab_link": true
    },
    "kernelspec": {
      "name": "python3",
      "display_name": "Python 3"
    },
    "language_info": {
      "name": "python"
    }
  },
  "cells": [
    {
      "cell_type": "markdown",
      "metadata": {
        "id": "view-in-github",
        "colab_type": "text"
      },
      "source": [
        "<a href=\"https://colab.research.google.com/github/g0pher98/pytorch-study/blob/main/chap4_pytorch_basic.ipynb\" target=\"_parent\"><img src=\"https://colab.research.google.com/assets/colab-badge.svg\" alt=\"Open In Colab\"/></a>"
      ]
    },
    {
      "cell_type": "markdown",
      "source": [
        "# 4.1. 텐서\n",
        "텐서 : 파이토치 기본단위. GPU 연산 가능"
      ],
      "metadata": {
        "id": "buV7yfR-vlyJ"
      }
    },
    {
      "cell_type": "code",
      "execution_count": 9,
      "metadata": {
        "id": "3zco67GSnvxz",
        "colab": {
          "base_uri": "https://localhost:8080/"
        },
        "outputId": "3d50d4b8-c0e2-410f-da4f-be0a8d32370a"
      },
      "outputs": [
        {
          "output_type": "execute_result",
          "data": {
            "text/plain": [
              "tensor([[1.4441e-34, 0.0000e+00, 0.0000e+00, 0.0000e+00],\n",
              "        [0.0000e+00, 0.0000e+00, 0.0000e+00, 0.0000e+00],\n",
              "        [0.0000e+00, 0.0000e+00, 0.0000e+00, 0.0000e+00],\n",
              "        [0.0000e+00, 0.0000e+00, 0.0000e+00, 0.0000e+00],\n",
              "        [0.0000e+00, 0.0000e+00, 0.0000e+00, 0.0000e+00]])"
            ]
          },
          "metadata": {},
          "execution_count": 9
        }
      ],
      "source": [
        "import numpy as np\n",
        "import torch\n",
        "\n",
        "x = torch.empty(5, 4)\n",
        "x"
      ]
    },
    {
      "cell_type": "markdown",
      "source": [
        "`torch.empty()` 메소드를 통해 5x4 빈 tensor를 만들 수 있음. 초기화 되지 않으면 메모리에 남아있던 값이 나옴."
      ],
      "metadata": {
        "id": "PekTgCOiv1oS"
      }
    },
    {
      "cell_type": "code",
      "source": [
        "torch.ones(2, 3)"
      ],
      "metadata": {
        "colab": {
          "base_uri": "https://localhost:8080/"
        },
        "id": "-HsPElPfvc1L",
        "outputId": "e0c85b47-6e05-4957-ac39-0868eb28cca4"
      },
      "execution_count": 10,
      "outputs": [
        {
          "output_type": "execute_result",
          "data": {
            "text/plain": [
              "tensor([[1., 1., 1.],\n",
              "        [1., 1., 1.]])"
            ]
          },
          "metadata": {},
          "execution_count": 10
        }
      ]
    },
    {
      "cell_type": "code",
      "source": [
        "torch.zeros(2, 3)"
      ],
      "metadata": {
        "colab": {
          "base_uri": "https://localhost:8080/"
        },
        "id": "SS3UulqRwOmb",
        "outputId": "b964bb24-de34-4561-c06a-b6b5806c6a0d"
      },
      "execution_count": 11,
      "outputs": [
        {
          "output_type": "execute_result",
          "data": {
            "text/plain": [
              "tensor([[0., 0., 0.],\n",
              "        [0., 0., 0.]])"
            ]
          },
          "metadata": {},
          "execution_count": 11
        }
      ]
    },
    {
      "cell_type": "code",
      "source": [
        "torch.rand(2, 3)"
      ],
      "metadata": {
        "colab": {
          "base_uri": "https://localhost:8080/"
        },
        "id": "evBEKXzewRH4",
        "outputId": "07340ba1-f09f-4bce-a336-271f0b311b5b"
      },
      "execution_count": 12,
      "outputs": [
        {
          "output_type": "execute_result",
          "data": {
            "text/plain": [
              "tensor([[0.3844, 0.9251, 0.3841],\n",
              "        [0.4585, 0.0046, 0.2694]])"
            ]
          },
          "metadata": {},
          "execution_count": 12
        }
      ]
    },
    {
      "cell_type": "code",
      "source": [
        "# list -> numpy -> tensor\n",
        "pylist = [[101, 102, 103], [201, 202, 203]]\n",
        "np_arr = np.array(pylist)\n",
        "\n",
        "tensor_x = torch.tensor(np_arr)\n",
        "tensor_x"
      ],
      "metadata": {
        "colab": {
          "base_uri": "https://localhost:8080/"
        },
        "id": "tsOkcp18whA9",
        "outputId": "4abaec93-485d-4fba-ce01-fdd381abcdb4"
      },
      "execution_count": 13,
      "outputs": [
        {
          "output_type": "execute_result",
          "data": {
            "text/plain": [
              "tensor([[101, 102, 103],\n",
              "        [201, 202, 203]])"
            ]
          },
          "metadata": {},
          "execution_count": 13
        }
      ]
    },
    {
      "cell_type": "code",
      "source": [
        "tensor_x.size() # 텐서의 크기"
      ],
      "metadata": {
        "colab": {
          "base_uri": "https://localhost:8080/"
        },
        "id": "Okvmq9QgwzDM",
        "outputId": "5db8aab8-9fc8-47cc-f88e-60e3c3ff3b9d"
      },
      "execution_count": 14,
      "outputs": [
        {
          "output_type": "execute_result",
          "data": {
            "text/plain": [
              "torch.Size([2, 3])"
            ]
          },
          "metadata": {},
          "execution_count": 14
        }
      ]
    },
    {
      "cell_type": "code",
      "source": [
        "# 파라미터를 넘기거나 크기 데이터의 인덱싱을 이용해서\n",
        "# Size의 특정 값에 접근할 수 있음\n",
        "tensor_x.size(0), tensor_x.size()[1] "
      ],
      "metadata": {
        "colab": {
          "base_uri": "https://localhost:8080/"
        },
        "id": "hHuLI8xVw4s4",
        "outputId": "e8f45c61-6174-4c4f-e476-8bb5136c6828"
      },
      "execution_count": 15,
      "outputs": [
        {
          "output_type": "execute_result",
          "data": {
            "text/plain": [
              "(2, 3)"
            ]
          },
          "metadata": {},
          "execution_count": 15
        }
      ]
    },
    {
      "cell_type": "code",
      "source": [
        "type(tensor_x)"
      ],
      "metadata": {
        "colab": {
          "base_uri": "https://localhost:8080/"
        },
        "id": "ZTaFbyRHxJmd",
        "outputId": "d2ea861f-421c-4665-cd6e-c9d3c76696ab"
      },
      "execution_count": 18,
      "outputs": [
        {
          "output_type": "execute_result",
          "data": {
            "text/plain": [
              "torch.Tensor"
            ]
          },
          "metadata": {},
          "execution_count": 18
        }
      ]
    },
    {
      "cell_type": "code",
      "source": [
        "X = torch.rand(3, 4)\n",
        "Y = torch.rand(3, 4)\n",
        "\n",
        "X, Y"
      ],
      "metadata": {
        "colab": {
          "base_uri": "https://localhost:8080/"
        },
        "id": "7UH6QXyYy1bS",
        "outputId": "2c071a0a-c245-41b8-8a47-f4ebff1b3ac7"
      },
      "execution_count": 19,
      "outputs": [
        {
          "output_type": "execute_result",
          "data": {
            "text/plain": [
              "(tensor([[0.3764, 0.6295, 0.5936, 0.2431],\n",
              "         [0.9147, 0.7759, 0.4555, 0.4596],\n",
              "         [0.4573, 0.5273, 0.8606, 0.0939]]),\n",
              " tensor([[0.9323, 0.8978, 0.8088, 0.2400],\n",
              "         [0.1785, 0.7626, 0.6086, 0.0031],\n",
              "         [0.8952, 0.1834, 0.5228, 0.9721]]))"
            ]
          },
          "metadata": {},
          "execution_count": 19
        }
      ]
    },
    {
      "cell_type": "code",
      "source": [
        "X+Y == X.add(Y) # numpy처럼 행렬 연산 가능. add처럼 함수로도 가능."
      ],
      "metadata": {
        "colab": {
          "base_uri": "https://localhost:8080/"
        },
        "id": "yzGu8v0my_0f",
        "outputId": "ab32ed61-585e-4b47-ce8f-1dcba85e94fb"
      },
      "execution_count": 20,
      "outputs": [
        {
          "output_type": "execute_result",
          "data": {
            "text/plain": [
              "tensor([[True, True, True, True],\n",
              "        [True, True, True, True],\n",
              "        [True, True, True, True]])"
            ]
          },
          "metadata": {},
          "execution_count": 20
        }
      ]
    },
    {
      "cell_type": "code",
      "source": [
        "X.add_(Y) # 연산 결과가 X로 덮어씌워짐.\n",
        "X"
      ],
      "metadata": {
        "colab": {
          "base_uri": "https://localhost:8080/"
        },
        "id": "LLv3b-nd0E3O",
        "outputId": "96fcc3a8-f741-4fb1-d889-13011b74b61d"
      },
      "execution_count": 21,
      "outputs": [
        {
          "output_type": "execute_result",
          "data": {
            "text/plain": [
              "tensor([[1.3087, 1.5274, 1.4024, 0.4831],\n",
              "        [1.0931, 1.5385, 1.0641, 0.4627],\n",
              "        [1.3525, 0.7107, 1.3834, 1.0660]])"
            ]
          },
          "metadata": {},
          "execution_count": 21
        }
      ]
    },
    {
      "cell_type": "code",
      "source": [
        "tensor_x"
      ],
      "metadata": {
        "colab": {
          "base_uri": "https://localhost:8080/"
        },
        "id": "rmVfe0nR0Yf5",
        "outputId": "12c43c2b-c977-48eb-f31d-36f6b2391b5f"
      },
      "execution_count": 27,
      "outputs": [
        {
          "output_type": "execute_result",
          "data": {
            "text/plain": [
              "tensor([[101, 102, 103],\n",
              "        [201, 202, 203]])"
            ]
          },
          "metadata": {},
          "execution_count": 27
        }
      ]
    },
    {
      "cell_type": "code",
      "source": [
        "resized_tensor = tensor_x.view([6])\n",
        "resized_tensor"
      ],
      "metadata": {
        "colab": {
          "base_uri": "https://localhost:8080/"
        },
        "id": "RYrM1QQq1Liw",
        "outputId": "d4aa09bf-932c-420f-8630-f4be1450ce9c"
      },
      "execution_count": 28,
      "outputs": [
        {
          "output_type": "execute_result",
          "data": {
            "text/plain": [
              "tensor([101, 102, 103, 201, 202, 203])"
            ]
          },
          "metadata": {},
          "execution_count": 28
        }
      ]
    },
    {
      "cell_type": "code",
      "source": [
        "resized_tensor = tensor_x.view([-1, 2, 1]) # -1은 auto\n",
        "resized_tensor"
      ],
      "metadata": {
        "colab": {
          "base_uri": "https://localhost:8080/"
        },
        "id": "P5YUmmIR1T_q",
        "outputId": "4d6e3dfa-ed05-44cb-9f0a-939c9dbcf4a5"
      },
      "execution_count": 29,
      "outputs": [
        {
          "output_type": "execute_result",
          "data": {
            "text/plain": [
              "tensor([[[101],\n",
              "         [102]],\n",
              "\n",
              "        [[103],\n",
              "         [201]],\n",
              "\n",
              "        [[202],\n",
              "         [203]]])"
            ]
          },
          "metadata": {},
          "execution_count": 29
        }
      ]
    },
    {
      "cell_type": "code",
      "source": [
        "np_array = tensor_x.numpy()\n",
        "np_array"
      ],
      "metadata": {
        "colab": {
          "base_uri": "https://localhost:8080/"
        },
        "id": "hsou8UkM1cRZ",
        "outputId": "9255beb3-301f-4500-aeb2-94c9a74f4a91"
      },
      "execution_count": 30,
      "outputs": [
        {
          "output_type": "execute_result",
          "data": {
            "text/plain": [
              "array([[101, 102, 103],\n",
              "       [201, 202, 203]])"
            ]
          },
          "metadata": {},
          "execution_count": 30
        }
      ]
    },
    {
      "cell_type": "code",
      "source": [
        "type(np_array)"
      ],
      "metadata": {
        "colab": {
          "base_uri": "https://localhost:8080/"
        },
        "id": "OMjUIR5p1p3r",
        "outputId": "1c3a1b50-9ded-414c-96c9-439604b044f3"
      },
      "execution_count": 31,
      "outputs": [
        {
          "output_type": "execute_result",
          "data": {
            "text/plain": [
              "numpy.ndarray"
            ]
          },
          "metadata": {},
          "execution_count": 31
        }
      ]
    },
    {
      "cell_type": "code",
      "source": [
        "x = torch.ones(1).view(-1,1,1,1,1,1) # 모양이 어떻든\n",
        "x.item() # 숫자가 하나인 텐서를 텐서4가 아닌 값으로 변환해줌"
      ],
      "metadata": {
        "colab": {
          "base_uri": "https://localhost:8080/"
        },
        "id": "2E_b3mNP1vfx",
        "outputId": "5583aad3-6ada-4c93-82e7-94db3b3e21da"
      },
      "execution_count": 32,
      "outputs": [
        {
          "output_type": "execute_result",
          "data": {
            "text/plain": [
              "1.0"
            ]
          },
          "metadata": {},
          "execution_count": 32
        }
      ]
    },
    {
      "cell_type": "markdown",
      "source": [
        "# 4.2. 역전파"
      ],
      "metadata": {
        "id": "V0fcHdT52WPf"
      }
    },
    {
      "cell_type": "markdown",
      "source": [
        "학습이 잘 되기 위해 모델 파라미터를 최적화하는데, 여기에 사용되는게 미분의 성질을 이용한 역전파.\n",
        "\n",
        "모델이 복잡해질수록 계산 과정이 복잡해져서 코드를 구현하기에는 어려움이있다. 파이토치는 간단하게 이를 구현할 수 있는 다양한 최적화 방법을 제공한다."
      ],
      "metadata": {
        "id": "GfEdp7H1y9jg"
      }
    },
    {
      "cell_type": "code",
      "source": [
        "'''\n",
        "그래디언트 텐서\n",
        "'''\n",
        "import torch\n",
        "\n",
        "# requires_grad : 해당 텐서를 기준으로 모든 연산을 추적\n",
        "x = torch.ones(2, 2, requires_grad=True)\n",
        "x"
      ],
      "metadata": {
        "id": "i_T7x4nb12TM",
        "outputId": "d6134f23-2141-42ee-ab5d-a7a0eaff7b50",
        "colab": {
          "base_uri": "https://localhost:8080/"
        }
      },
      "execution_count": 33,
      "outputs": [
        {
          "output_type": "execute_result",
          "data": {
            "text/plain": [
              "tensor([[1., 1.],\n",
              "        [1., 1.]], requires_grad=True)"
            ]
          },
          "metadata": {},
          "execution_count": 33
        }
      ]
    },
    {
      "cell_type": "code",
      "source": [
        "y = x + 1\n",
        "y"
      ],
      "metadata": {
        "id": "ESU1W1YqzrV-",
        "outputId": "be73aff6-ac10-43d7-a0f8-f47cd1a29caa",
        "colab": {
          "base_uri": "https://localhost:8080/"
        }
      },
      "execution_count": 34,
      "outputs": [
        {
          "output_type": "execute_result",
          "data": {
            "text/plain": [
              "tensor([[2., 2.],\n",
              "        [2., 2.]], grad_fn=<AddBackward0>)"
            ]
          },
          "metadata": {},
          "execution_count": 34
        }
      ]
    },
    {
      "cell_type": "code",
      "source": [
        "z = 2*(y**2)\n",
        "z"
      ],
      "metadata": {
        "id": "ndMqwpzM0om-",
        "outputId": "41b544cf-391c-4b54-af0d-96b266c6675d",
        "colab": {
          "base_uri": "https://localhost:8080/"
        }
      },
      "execution_count": 35,
      "outputs": [
        {
          "output_type": "execute_result",
          "data": {
            "text/plain": [
              "tensor([[8., 8.],\n",
              "        [8., 8.]], grad_fn=<MulBackward0>)"
            ]
          },
          "metadata": {},
          "execution_count": 35
        }
      ]
    },
    {
      "cell_type": "code",
      "source": [
        "r = z.mean()\n",
        "r"
      ],
      "metadata": {
        "id": "wbFRBhoY0qWk",
        "outputId": "5770ad04-4b83-421c-e8a3-5a57b1408861",
        "colab": {
          "base_uri": "https://localhost:8080/"
        }
      },
      "execution_count": 36,
      "outputs": [
        {
          "output_type": "execute_result",
          "data": {
            "text/plain": [
              "tensor(8., grad_fn=<MeanBackward0>)"
            ]
          },
          "metadata": {},
          "execution_count": 36
        }
      ]
    },
    {
      "cell_type": "code",
      "source": [
        "r.backward()\n",
        "x.grad"
      ],
      "metadata": {
        "id": "U62D0k4S0w8s",
        "outputId": "cd9b4eb0-1ea5-412f-c7dd-f3046deba3ef",
        "colab": {
          "base_uri": "https://localhost:8080/"
        }
      },
      "execution_count": 37,
      "outputs": [
        {
          "output_type": "execute_result",
          "data": {
            "text/plain": [
              "tensor([[2., 2.],\n",
              "        [2., 2.]])"
            ]
          },
          "metadata": {},
          "execution_count": 37
        }
      ]
    },
    {
      "cell_type": "markdown",
      "source": [
        "`r.backward()`는 r을 기준으로 역전파를 진행하겠다는 의미.\n",
        "- $r=\\frac{z_1+z_2+z_3+z_4}{4}$\n",
        "- $z_i=2y_i^2=2(x_i+1)^2$\n",
        "- $\\frac{dr}{dx_i}=x_i+1$\n",
        "\n",
        "따라서 미분 결과는 모두 2가 된다."
      ],
      "metadata": {
        "id": "bpxt_Y4a1Yrp"
      }
    },
    {
      "cell_type": "code",
      "source": [
        "'''\n",
        "자동 미분 - 선형회귀 식\n",
        "'''\n",
        "import torch\n",
        "from matplotlib import pyplot as plt\n",
        "\n",
        "x = torch.FloatTensor(range(5)).unsqueeze(1) # 2차원으로 reshape\n",
        "x, x.shape"
      ],
      "metadata": {
        "id": "voJvLBLs1ABS",
        "outputId": "cf17f87f-4b14-4a72-9085-8ce6731b1083",
        "colab": {
          "base_uri": "https://localhost:8080/"
        }
      },
      "execution_count": 38,
      "outputs": [
        {
          "output_type": "execute_result",
          "data": {
            "text/plain": [
              "(tensor([[0.],\n",
              "         [1.],\n",
              "         [2.],\n",
              "         [3.],\n",
              "         [4.]]), torch.Size([5, 1]))"
            ]
          },
          "metadata": {},
          "execution_count": 38
        }
      ]
    },
    {
      "cell_type": "code",
      "source": [
        "y = 2*x + torch.rand(5, 1)\n",
        "y"
      ],
      "metadata": {
        "id": "f9luB6nF1BRR",
        "outputId": "0496b60e-8b43-4d85-ebb0-16e386e1409f",
        "colab": {
          "base_uri": "https://localhost:8080/"
        }
      },
      "execution_count": 39,
      "outputs": [
        {
          "output_type": "execute_result",
          "data": {
            "text/plain": [
              "tensor([[0.1771],\n",
              "        [2.5614],\n",
              "        [4.9596],\n",
              "        [6.6663],\n",
              "        [8.8399]])"
            ]
          },
          "metadata": {},
          "execution_count": 39
        }
      ]
    },
    {
      "cell_type": "code",
      "source": [
        "# instance가 5개, feature가 1개\n",
        "num_features = x.shape[1]"
      ],
      "metadata": {
        "id": "IxLaPPFF4lTD"
      },
      "execution_count": 40,
      "outputs": []
    },
    {
      "cell_type": "code",
      "source": [
        "# y=wx+b. 일단 초기값은 테스트니까 랜덤으로.\n",
        "w = torch.randn(num_features, 1, requires_grad=True) # (5,1)\n",
        "b = torch.randn(1, requires_grad=True)"
      ],
      "metadata": {
        "id": "uH-Ia7CJ4yzU"
      },
      "execution_count": 41,
      "outputs": []
    },
    {
      "cell_type": "code",
      "source": [
        "# 가중치 업데이트는 Stochastic Gradient Descent(SGD) 알고리즘 사용.\n",
        "optimizer = torch.optim.SGD([w, b], lr=1e-3)"
      ],
      "metadata": {
        "id": "nVBIbsuY8BoR"
      },
      "execution_count": 42,
      "outputs": []
    },
    {
      "cell_type": "code",
      "source": [
        "loss_stack = []\n",
        "for epoch in range(1001):\n",
        "  optimizer.zero_grad() # 최적화 계산 과정에서 누적된 값을 초기화.\n",
        "  y_hat = torch.matmul(x, w) + b\n",
        "  loss = torch.mean((y_hat - y) ** 2) # MSE Loss 값 계산\n",
        "  loss.backward() # loss tensor를 기준으로 역전파\n",
        "  optimizer.step() # 최적화 시행\n",
        "  loss_stack.append(loss.item())\n",
        "\n",
        "  if epoch % 100 == 0:\n",
        "    print(f\"Epoch {epoch:5d}: {loss.item()}\")"
      ],
      "metadata": {
        "id": "Yxm2ZoBh8j-d",
        "outputId": "300fb06b-312d-4db8-ca8c-1da39841d901",
        "colab": {
          "base_uri": "https://localhost:8080/"
        }
      },
      "execution_count": 43,
      "outputs": [
        {
          "output_type": "stream",
          "name": "stdout",
          "text": [
            "Epoch     0: 84.3958740234375\n",
            "Epoch   100: 5.7413811683654785\n",
            "Epoch   200: 0.44506606459617615\n",
            "Epoch   300: 0.08539938926696777\n",
            "Epoch   400: 0.05828646942973137\n",
            "Epoch   500: 0.053878434002399445\n",
            "Epoch   600: 0.05128905922174454\n",
            "Epoch   700: 0.049080125987529755\n",
            "Epoch   800: 0.047125931829214096\n",
            "Epoch   900: 0.045391932129859924\n",
            "Epoch  1000: 0.04385315626859665\n"
          ]
        }
      ]
    },
    {
      "cell_type": "code",
      "source": [
        "with torch.no_grad(): # requires_grad가 동작하지 않는 상태에서 코드 실행\n",
        "  y_hat = torch.matmul(x, w) + b"
      ],
      "metadata": {
        "id": "s4yftfWSSIZu"
      },
      "execution_count": 44,
      "outputs": []
    },
    {
      "cell_type": "code",
      "source": [
        "plt.figure(figsize=(15, 5))\n",
        "\n",
        "plt.subplot(121)\n",
        "plt.plot(loss_stack)\n",
        "plt.title(\"Loss\")\n",
        "\n",
        "plt.subplot(122)\n",
        "plt.plot(x, y, '.b')\n",
        "plt.plot(x, y_hat, 'r-')\n",
        "plt.legend(['ground truth', 'prediction'])\n",
        "plt.title(\"Prediction\")\n",
        "\n",
        "plt.show()"
      ],
      "metadata": {
        "id": "AkUqkRjRPWC3",
        "outputId": "6e7c5d23-d14f-48d2-97ff-bf73b4d6eca3",
        "colab": {
          "base_uri": "https://localhost:8080/",
          "height": 323
        }
      },
      "execution_count": 45,
      "outputs": [
        {
          "output_type": "display_data",
          "data": {
            "text/plain": [
              "<Figure size 1080x360 with 2 Axes>"
            ],
            "image/png": "[encoded data removed]"
          },
          "metadata": {
            "needs_background": "light"
          }
        }
      ]
    },
    {
      "cell_type": "markdown",
      "source": [
        "# 4.3. 데이터 불러오기"
      ],
      "metadata": {
        "id": "tItM-EOeTPHI"
      }
    },
    {
      "cell_type": "code",
      "source": [
        "'''\n",
        "4.3.1. 파이토치 제공 데이터 사용\n",
        "'''\n",
        "import torch\n",
        "import torchvision # 비전 관련\n",
        "import torchvision.transforms as tr # 비전 전처리 관련\n",
        "from torch.utils.data import DataLoader, Dataset # 데이터 가공\n",
        "import numpy as np\n",
        "import matplotlib.pyplot as plt"
      ],
      "metadata": {
        "id": "zGIMbbSORkwf"
      },
      "execution_count": 46,
      "outputs": []
    },
    {
      "cell_type": "code",
      "source": [
        "transf = tr.Compose([ # 전처리 과정을 Compose로 원툴로 만듦\n",
        "    tr.Resize((16, 16)),\n",
        "    tr.ToTensor()\n",
        "])\n",
        "transf"
      ],
      "metadata": {
        "id": "H-LNRo7vTq7i",
        "outputId": "b7acdcbc-51fd-4c4d-97b0-8ab68e0ea049",
        "colab": {
          "base_uri": "https://localhost:8080/"
        }
      },
      "execution_count": 47,
      "outputs": [
        {
          "output_type": "execute_result",
          "data": {
            "text/plain": [
              "Compose(\n",
              "    Resize(size=(16, 16), interpolation=bilinear, max_size=None, antialias=None)\n",
              "    ToTensor()\n",
              ")"
            ]
          },
          "metadata": {},
          "execution_count": 47
        }
      ]
    },
    {
      "cell_type": "code",
      "source": [
        "# torchvision.datasets 에서 제공하는 CIFAR 이미지 데이터셋 다운로드.\n",
        "trainset = torchvision.datasets.CIFAR10(root='./data', train=True, download=True, transform=transf)\n",
        "testset  = torchvision.datasets.CIFAR10(root='./data', train=False, download=True, transform=transf)\n",
        "\n",
        "trainset"
      ],
      "metadata": {
        "id": "6CYdDz1RT0cy",
        "outputId": "f1d70234-eed5-44f8-bb4c-8f749e225458",
        "colab": {
          "base_uri": "https://localhost:8080/"
        }
      },
      "execution_count": 48,
      "outputs": [
        {
          "output_type": "stream",
          "name": "stdout",
          "text": [
            "Files already downloaded and verified\n",
            "Files already downloaded and verified\n"
          ]
        },
        {
          "output_type": "execute_result",
          "data": {
            "text/plain": [
              "Dataset CIFAR10\n",
              "    Number of datapoints: 50000\n",
              "    Root location: ./data\n",
              "    Split: Train\n",
              "    StandardTransform\n",
              "Transform: Compose(\n",
              "               Resize(size=(16, 16), interpolation=bilinear, max_size=None, antialias=None)\n",
              "               ToTensor()\n",
              "           )"
            ]
          },
          "metadata": {},
          "execution_count": 48
        }
      ]
    },
    {
      "cell_type": "code",
      "source": [
        "print(type(trainset)) # ==> tuple (dataset, label)\n",
        "trainset[0][0].size() # 채널 정보가 맨 앞에 온다,,! @_@ 헷갈리것다,,"
      ],
      "metadata": {
        "id": "Qwxgf_nvUiMA",
        "outputId": "626eec96-eb0c-4ee7-e377-5855b54c4426",
        "colab": {
          "base_uri": "https://localhost:8080/"
        }
      },
      "execution_count": 49,
      "outputs": [
        {
          "output_type": "stream",
          "name": "stdout",
          "text": [
            "<class 'torchvision.datasets.cifar.CIFAR10'>\n"
          ]
        },
        {
          "output_type": "execute_result",
          "data": {
            "text/plain": [
              "torch.Size([3, 16, 16])"
            ]
          },
          "metadata": {},
          "execution_count": 49
        }
      ]
    },
    {
      "cell_type": "code",
      "source": [
        "# DataLoader는 데이터를 미니배치 형태로 만들어줌. batch size나 shuffle 여부를 설정할 수 있음.\n",
        "trainloader = DataLoader(trainset, batch_size=50, shuffle=True)\n",
        "testloader = DataLoader(testset, batch_size=50, shuffle=True)\n",
        "\n",
        "trainloader"
      ],
      "metadata": {
        "id": "IqaZQwdZVArl",
        "outputId": "b8c94c2c-0159-429f-ec2b-b1ccd79f191e",
        "colab": {
          "base_uri": "https://localhost:8080/"
        }
      },
      "execution_count": 50,
      "outputs": [
        {
          "output_type": "execute_result",
          "data": {
            "text/plain": [
              "<torch.utils.data.dataloader.DataLoader at 0x7f520ed9b6d0>"
            ]
          },
          "metadata": {},
          "execution_count": 50
        }
      ]
    },
    {
      "cell_type": "code",
      "source": [
        "len(trainloader) # 5만장 / batch_size(50) = 1000"
      ],
      "metadata": {
        "id": "TOECrugkXGVY",
        "outputId": "e4fbaa43-624e-4bfc-adc8-287a303787e2",
        "colab": {
          "base_uri": "https://localhost:8080/"
        }
      },
      "execution_count": 51,
      "outputs": [
        {
          "output_type": "execute_result",
          "data": {
            "text/plain": [
              "1000"
            ]
          },
          "metadata": {},
          "execution_count": 51
        }
      ]
    },
    {
      "cell_type": "code",
      "source": [
        "images, labels = iter(trainloader).next() # 첫 번째 batch를 load\n",
        "images.size() # 16x16 resized image 50장을 얻을 수 있음"
      ],
      "metadata": {
        "id": "kllkT5XyXORu",
        "outputId": "2757fd25-b918-4544-cc46-b32ced5d980a",
        "colab": {
          "base_uri": "https://localhost:8080/"
        }
      },
      "execution_count": 52,
      "outputs": [
        {
          "output_type": "execute_result",
          "data": {
            "text/plain": [
              "torch.Size([50, 3, 16, 16])"
            ]
          },
          "metadata": {},
          "execution_count": 52
        }
      ]
    },
    {
      "cell_type": "code",
      "source": [
        "oneshot = images[1].permute(1,2,0).numpy() # permute로 index 위치를 바꾼다. 채널을 가장 뒤로!\n",
        "plt.figure(figsize=(2, 2))\n",
        "plt.imshow(oneshot)\n",
        "plt.axis('off')\n",
        "plt.show()"
      ],
      "metadata": {
        "id": "s_YBadrJX0tZ",
        "outputId": "05eac283-2e67-4764-d8aa-d6934833bba2",
        "colab": {
          "base_uri": "https://localhost:8080/",
          "height": 140
        }
      },
      "execution_count": 53,
      "outputs": [
        {
          "output_type": "display_data",
          "data": {
            "text/plain": [
              "<Figure size 144x144 with 1 Axes>"
            ],
            "image/png": "[encoded data removed]"
          },
          "metadata": {
            "needs_background": "light"
          }
        }
      ]
    },
    {
      "cell_type": "code",
      "source": [
        "'''\n",
        "4.3.2. 같은 클래스 별로 폴더를 정리한 경우\n",
        "\n",
        "    - 별도의 라벨링 없이 폴더별로 자동 라벨링됨.\n",
        "'''\n",
        "transf = tr.Compose([tr.Resize(128), tr.ToTensor()])\n",
        "\n",
        "# 예시 데이터가 없어서 주석처리. 상황에 맞게 사용하면 될듯.\n",
        "\n",
        "#trainset = torchvision.datasets.ImageFolder(root='./class', transform=transf)\n",
        "#trainloader = DataLoader(trainset, batch_size=1, shuffle=False)"
      ],
      "metadata": {
        "id": "_WsfAg2DbLsj"
      },
      "execution_count": 54,
      "outputs": []
    },
    {
      "cell_type": "code",
      "source": [
        "'''\n",
        "4.3.3. 정리되지 않은 커스텀 데이터 불러오기\n",
        "\n",
        "    - 메소드로 해결이 안되는 구조의 데이터인 경우 필요.\n",
        "'''\n",
        "\n",
        "class CustomData(Dataset):\n",
        "  ''' 커스텀 데이터를 로드하는 클래스 '''\n",
        "\n",
        "  def __init__(self, x_data, y_data):\n",
        "    self.x_data = torch.FloatTensor(x_data)\n",
        "    self.x_data = self.x_data.permute(0,3,1,2) # 채널 값을 앞으로 옮긴다.\n",
        "    self.y_data = torch.LongTensor(y_data)\n",
        "    self.len = self.y_data.shape[0]\n",
        "\n",
        "  def __getitem__(self, index):\n",
        "    return self.x_data[index], self.y_data[index]\n",
        "  \n",
        "  def __len__(self):\n",
        "    return self.len"
      ],
      "metadata": {
        "id": "druOHV64cFH6"
      },
      "execution_count": 55,
      "outputs": []
    },
    {
      "cell_type": "code",
      "source": [
        "train_images = np.random.randint(256, size=(100, 32, 32, 3)) / 255\n",
        "train_labels = np.random.randint(2, size=(100, 1))\n",
        "\n",
        "# 커스텀 클래스를 이용해서 데이터셋으로 만듦\n",
        "trainset = CustomData(train_images, train_labels)\n",
        "trainloader = DataLoader(trainset, batch_size=10, shuffle=False)\n",
        "\n",
        "trainloader"
      ],
      "metadata": {
        "id": "TU1owYUIemQj",
        "outputId": "3436342c-512c-440e-f8c3-3997e0064bbd",
        "colab": {
          "base_uri": "https://localhost:8080/"
        }
      },
      "execution_count": 56,
      "outputs": [
        {
          "output_type": "execute_result",
          "data": {
            "text/plain": [
              "<torch.utils.data.dataloader.DataLoader at 0x7f520edf3490>"
            ]
          },
          "metadata": {},
          "execution_count": 56
        }
      ]
    },
    {
      "cell_type": "code",
      "source": [
        "'''\n",
        "4.3.4. 커스텀 데이터와 커스텀 전처리 사용하기\n",
        "'''\n",
        "\n",
        "# 커스텀 전처리 클래스를 생성해서 tr.Compose([ToTensor(), CutOut()])를 완성시킨다.\n",
        "\n",
        "class ToTensor:\n",
        "  \n",
        "  def __call__(self, sample):\n",
        "    inputs, labels = sample\n",
        "    inputs = torch.FloatTensor(inputs)\n",
        "    inputs = inputs.permute(2, 0, 1) # 채널 값을 앞으로 옮김.\n",
        "    return inputs, torch.LongTensor(labels)"
      ],
      "metadata": {
        "id": "uPO1_OYkfDdY"
      },
      "execution_count": 57,
      "outputs": []
    },
    {
      "cell_type": "code",
      "source": [
        "class CutOut:\n",
        "  ''' \n",
        "  cutout\n",
        "    : 이미지 내부에 무작위의 사각형 영역을 선택하여 0으로 만듦.\n",
        "      => 데이터 증식 방법 중 하나.\n",
        "  '''\n",
        "\n",
        "  def __init__(self, ratio=.5):\n",
        "    self.ratio = int(1/ratio)\n",
        "  \n",
        "  def __call__(self, sample):\n",
        "    inputs, lables = sample\n",
        "    active = int(np.random.randint(0, self.ratio, 1))\n",
        "\n",
        "    if active == 0:\n",
        "      _, w, h = inputs.size()\n",
        "      min_len = min(w, h)\n",
        "      box_size = int(min_len // 4)\n",
        "      idx = int(np.random.randint(0, min_len-box_size, 1))\n",
        "      inputs[:,idx:idx+box_size,idx:idx+box_size] = 0\n",
        "\n",
        "    return inputs, labels"
      ],
      "metadata": {
        "id": "4g3viUSEmQJE"
      },
      "execution_count": 58,
      "outputs": []
    },
    {
      "cell_type": "code",
      "source": [
        "class MyDataset(Dataset):\n",
        "  def __init__(self, x_data,y_data, transform=None):\n",
        "    self.x_data = x_data\n",
        "    self.y_data = y_data\n",
        "    self.transform = transform\n",
        "    self.len = len(y_data)\n",
        "    self.tensor = ToTensor()\n",
        "\n",
        "  def __getitem__(self, index):\n",
        "    sample = self.x_data[index], self.y_data[index]\n",
        "\n",
        "    if self.transform:\n",
        "      sample = self.transform(sample)\n",
        "    else:\n",
        "      sample = self.tensor(sample)\n",
        "    return sample\n",
        "  \n",
        "  def __len__(self):\n",
        "    return self.len"
      ],
      "metadata": {
        "id": "ZmbiFvrcm1a6"
      },
      "execution_count": 59,
      "outputs": []
    },
    {
      "cell_type": "code",
      "source": [
        "trans = tr.Compose([ToTensor(), CutOut()]) # 커스텀 전처리\n",
        "dataset1 = MyDataset(train_images, train_labels, transform=trans)\n",
        "train_loader1 = DataLoader(dataset1, batch_size = 10, shuffle = True)\n",
        "\n",
        "train_loader1"
      ],
      "metadata": {
        "id": "hMu9wnl6NMr2",
        "outputId": "80726a9f-7ff5-4c31-970e-c9a1371bcb90",
        "colab": {
          "base_uri": "https://localhost:8080/"
        }
      },
      "execution_count": 60,
      "outputs": [
        {
          "output_type": "execute_result",
          "data": {
            "text/plain": [
              "<torch.utils.data.dataloader.DataLoader at 0x7f520edbe2d0>"
            ]
          },
          "metadata": {},
          "execution_count": 60
        }
      ]
    },
    {
      "cell_type": "code",
      "source": [
        "import torchvision\n",
        "images1, labels1 = iter(train_loader1).next()\n",
        "\n",
        "def imshow(img):\n",
        "  plt.figure(figsize=(10,100))\n",
        "  plt.imshow(img.permute(1,2,0).numpy())\n",
        "  plt.show()\n",
        "\n",
        "imshow(torchvision.utils.make_grid(images1, nrow=10))"
      ],
      "metadata": {
        "id": "M5sZw8yVN35R",
        "outputId": "b0ac5911-a044-47ba-c163-0384b2a46ca0",
        "colab": {
          "base_uri": "https://localhost:8080/",
          "height": 110
        }
      },
      "execution_count": 61,
      "outputs": [
        {
          "output_type": "display_data",
          "data": {
            "text/plain": [
              "<Figure size 720x7200 with 1 Axes>"
            ],
            "image/png": "[encoded data removed]"
          },
          "metadata": {
            "needs_background": "light"
          }
        }
      ]
    },
    {
      "cell_type": "code",
      "source": [
        "'''\n",
        "4.3.5. 커스텀 데이터와 파이토치 제공 전처리 사용하기\n",
        "\n",
        "  - 파이토치의 대부분의 전처리는 PILImage 타입으로 처리하기 때문에\n",
        "      파이토치 전처리를 사용하기 위해선 타입 변환이 필요하다.\n",
        "'''\n",
        "class MyTransform:\n",
        "\n",
        "  def __call__(self, sample):\n",
        "    inputs, labels = sample\n",
        "    inputs = torch.FloatTensor(inputs)\n",
        "    inputs = inputs.permute(2, 0, 1)\n",
        "    labels = torch.FloatTensor(labels)\n",
        "\n",
        "    transf = tr.Compose([tr.ToPILImage(), tr.Resize(128), tr.ToTensor()])\n",
        "    final_output = transf(inputs)\n",
        "\n",
        "    return final_output, labels\n"
      ],
      "metadata": {
        "id": "9B7A4vUdOciQ"
      },
      "execution_count": 62,
      "outputs": []
    },
    {
      "cell_type": "code",
      "source": [
        "dataset2 = MyDataset(train_images, train_labels, transform=MyTransform())\n",
        "train_loader2 = DataLoader(dataset2, batch_size = 10, shuffle = True)\n",
        "\n",
        "train_loader2"
      ],
      "metadata": {
        "id": "ni3MxuVzPgKp",
        "outputId": "fec1ad56-2266-4430-a791-abadbccac3d4",
        "colab": {
          "base_uri": "https://localhost:8080/"
        }
      },
      "execution_count": 63,
      "outputs": [
        {
          "output_type": "execute_result",
          "data": {
            "text/plain": [
              "<torch.utils.data.dataloader.DataLoader at 0x7f520ecd7ed0>"
            ]
          },
          "metadata": {},
          "execution_count": 63
        }
      ]
    },
    {
      "cell_type": "code",
      "source": [
        "'''\n",
        "4.3.6. 커스텀 전처리와 파이토치 제공 전처리 사용하기\n",
        "'''\n",
        "\n",
        "class CutOutImage:\n",
        "\n",
        "  def __init__(self, ratio=.5):\n",
        "    self.ratio = int(1/ratio)\n",
        "  \n",
        "  def __call__(self, inputs):\n",
        "    # 4.3.4 에서의 CutOut과 다르게 label은 처리하지 않음.\n",
        "    # pytorch 전처리와의 호환성을 위해서.\n",
        "    active = int(np.random.randint(0, self.ratio, 1))\n",
        "\n",
        "    if active == 0:\n",
        "      _, w, h = inputs.size()\n",
        "      min_len = min(w, h)\n",
        "      box_size = int(min_len // 4)\n",
        "      idx = int(np.random.randint(0, min_len-box_size, 1))\n",
        "      inputs[:,idx:idx+box_size,idx:idx+box_size] = 0\n",
        "\n",
        "    return inputs"
      ],
      "metadata": {
        "id": "R-eAtRP2PwtQ"
      },
      "execution_count": 64,
      "outputs": []
    },
    {
      "cell_type": "code",
      "source": [
        "transf = tr.Compose([tr.Resize(128), tr.ToTensor(), CutOutImage()]) # 텐서 변환 후 커스텀 전처리\n",
        "trainset = torchvision.datasets.CIFAR10(root='./data', train=True, download=True, transform=transf)\n",
        "\n",
        "train_loader = DataLoader(trainset, batch_size = 10, shuffle = True)\n",
        "images, labels = iter(train_loader).next()\n",
        "\n",
        "imshow(torchvision.utils.make_grid(images, nrow=10))\n",
        "print(images.size())"
      ],
      "metadata": {
        "id": "w1-mfo7HQDfg",
        "outputId": "4eb13cdb-0633-40c5-fece-f23845482df3",
        "colab": {
          "base_uri": "https://localhost:8080/",
          "height": 145
        }
      },
      "execution_count": 65,
      "outputs": [
        {
          "output_type": "stream",
          "name": "stdout",
          "text": [
            "Files already downloaded and verified\n"
          ]
        },
        {
          "output_type": "display_data",
          "data": {
            "text/plain": [
              "<Figure size 720x7200 with 1 Axes>"
            ],
            "image/png": "[encoded data removed]"
          },
          "metadata": {
            "needs_background": "light"
          }
        },
        {
          "output_type": "stream",
          "name": "stdout",
          "text": [
            "torch.Size([10, 3, 128, 128])\n"
          ]
        }
      ]
    }
  ]
}