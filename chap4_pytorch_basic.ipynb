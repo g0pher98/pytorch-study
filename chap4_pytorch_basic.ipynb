{
  "nbformat": 4,
  "nbformat_minor": 0,
  "metadata": {
    "colab": {
      "provenance": [],
      "collapsed_sections": [],
      "authorship_tag": "ABX9TyOGtcXMqwslaWf68EACow4u",
      "include_colab_link": true
    },
    "kernelspec": {
      "name": "python3",
      "display_name": "Python 3"
    },
    "language_info": {
      "name": "python"
    }
  },
  "cells": [
    {
      "cell_type": "markdown",
      "metadata": {
        "id": "view-in-github",
        "colab_type": "text"
      },
      "source": [
        "<a href=\"https://colab.research.google.com/github/g0pher98/pytorch-study/blob/main/chap4_pytorch_basic.ipynb\" target=\"_parent\"><img src=\"https://colab.research.google.com/assets/colab-badge.svg\" alt=\"Open In Colab\"/></a>"
      ]
    },
    {
      "cell_type": "markdown",
      "source": [
        "# 4.1. 텐서\n",
        "텐서 : 파이토치 기본단위. GPU 연산 가능"
      ],
      "metadata": {
        "id": "buV7yfR-vlyJ"
      }
    },
    {
      "cell_type": "code",
      "execution_count": 1,
      "metadata": {
        "id": "3zco67GSnvxz",
        "colab": {
          "base_uri": "https://localhost:8080/"
        },
        "outputId": "16a21650-a9c5-4e38-e868-d6e1167f4411"
      },
      "outputs": [
        {
          "output_type": "execute_result",
          "data": {
            "text/plain": [
              "tensor([[5.3829e-35, 0.0000e+00, 0.0000e+00, 0.0000e+00],\n",
              "        [0.0000e+00, 0.0000e+00, 0.0000e+00, 0.0000e+00],\n",
              "        [3.5733e-43, 0.0000e+00, 0.0000e+00, 0.0000e+00],\n",
              "        [0.0000e+00, 0.0000e+00, 0.0000e+00, 0.0000e+00],\n",
              "        [3.5733e-43, 0.0000e+00, 4.9045e-44, 0.0000e+00]])"
            ]
          },
          "metadata": {},
          "execution_count": 1
        }
      ],
      "source": [
        "import numpy as np\n",
        "import torch\n",
        "\n",
        "x = torch.empty(5, 4)\n",
        "x"
      ]
    },
    {
      "cell_type": "markdown",
      "source": [
        "`torch.empty()` 메소드를 통해 5x4 빈 tensor를 만들 수 있음. 초기화 되지 않으면 메모리에 남아있던 값이 나옴."
      ],
      "metadata": {
        "id": "PekTgCOiv1oS"
      }
    },
    {
      "cell_type": "code",
      "source": [
        "torch.ones(2, 3)"
      ],
      "metadata": {
        "colab": {
          "base_uri": "https://localhost:8080/"
        },
        "id": "-HsPElPfvc1L",
        "outputId": "faaa18a7-7401-4464-a3c8-4262df54627c"
      },
      "execution_count": 6,
      "outputs": [
        {
          "output_type": "execute_result",
          "data": {
            "text/plain": [
              "tensor([[1., 1., 1.],\n",
              "        [1., 1., 1.]])"
            ]
          },
          "metadata": {},
          "execution_count": 6
        }
      ]
    },
    {
      "cell_type": "code",
      "source": [
        "torch.zeros(2, 3)"
      ],
      "metadata": {
        "colab": {
          "base_uri": "https://localhost:8080/"
        },
        "id": "SS3UulqRwOmb",
        "outputId": "a2dd3f99-69b9-4003-9622-49da41c60cb3"
      },
      "execution_count": 7,
      "outputs": [
        {
          "output_type": "execute_result",
          "data": {
            "text/plain": [
              "tensor([[0., 0., 0.],\n",
              "        [0., 0., 0.]])"
            ]
          },
          "metadata": {},
          "execution_count": 7
        }
      ]
    },
    {
      "cell_type": "code",
      "source": [
        "torch.rand(2, 3)"
      ],
      "metadata": {
        "colab": {
          "base_uri": "https://localhost:8080/"
        },
        "id": "evBEKXzewRH4",
        "outputId": "b6b3fa8f-2c0e-440e-e80e-a1342649a3c5"
      },
      "execution_count": 8,
      "outputs": [
        {
          "output_type": "execute_result",
          "data": {
            "text/plain": [
              "tensor([[0.2065, 0.3269, 0.1896],\n",
              "        [0.3309, 0.3655, 0.9001]])"
            ]
          },
          "metadata": {},
          "execution_count": 8
        }
      ]
    },
    {
      "cell_type": "code",
      "source": [
        "# list -> numpy -> tensor\n",
        "pylist = [[101, 102, 103], [201, 202, 203]]\n",
        "np_arr = np.array(pylist)\n",
        "\n",
        "tensor_x = torch.tensor(np_arr)\n",
        "tensor_x"
      ],
      "metadata": {
        "colab": {
          "base_uri": "https://localhost:8080/"
        },
        "id": "tsOkcp18whA9",
        "outputId": "bf704479-3518-4e08-f2d6-2671672d133b"
      },
      "execution_count": 21,
      "outputs": [
        {
          "output_type": "execute_result",
          "data": {
            "text/plain": [
              "tensor([[101, 102, 103],\n",
              "        [201, 202, 203]])"
            ]
          },
          "metadata": {},
          "execution_count": 21
        }
      ]
    },
    {
      "cell_type": "code",
      "source": [
        "tensor_x.size() # 텐서의 크기"
      ],
      "metadata": {
        "colab": {
          "base_uri": "https://localhost:8080/"
        },
        "id": "Okvmq9QgwzDM",
        "outputId": "4055e9bd-5a01-4a59-ca0a-462955716423"
      },
      "execution_count": 22,
      "outputs": [
        {
          "output_type": "execute_result",
          "data": {
            "text/plain": [
              "torch.Size([2, 3])"
            ]
          },
          "metadata": {},
          "execution_count": 22
        }
      ]
    },
    {
      "cell_type": "code",
      "source": [
        "# 파라미터를 넘기거나 크기 데이터의 인덱싱을 이용해서\n",
        "# Size의 특정 값에 접근할 수 있음\n",
        "tensor_x.size(0), tensor_x.size()[1] "
      ],
      "metadata": {
        "colab": {
          "base_uri": "https://localhost:8080/"
        },
        "id": "hHuLI8xVw4s4",
        "outputId": "64c2c061-960d-4416-ec85-787b27d23664"
      },
      "execution_count": 24,
      "outputs": [
        {
          "output_type": "execute_result",
          "data": {
            "text/plain": [
              "(2, 3)"
            ]
          },
          "metadata": {},
          "execution_count": 24
        }
      ]
    },
    {
      "cell_type": "code",
      "source": [
        "type(tensor)"
      ],
      "metadata": {
        "colab": {
          "base_uri": "https://localhost:8080/"
        },
        "id": "ZTaFbyRHxJmd",
        "outputId": "8598c377-2e0e-4374-93e0-e227be9e1442"
      },
      "execution_count": 25,
      "outputs": [
        {
          "output_type": "execute_result",
          "data": {
            "text/plain": [
              "torch.Tensor"
            ]
          },
          "metadata": {},
          "execution_count": 25
        }
      ]
    },
    {
      "cell_type": "code",
      "source": [
        "X = torch.rand(3, 4)\n",
        "Y = torch.rand(3, 4)\n",
        "\n",
        "X, Y"
      ],
      "metadata": {
        "colab": {
          "base_uri": "https://localhost:8080/"
        },
        "id": "7UH6QXyYy1bS",
        "outputId": "dbac1973-74a0-447d-da87-485de3df5e05"
      },
      "execution_count": 39,
      "outputs": [
        {
          "output_type": "execute_result",
          "data": {
            "text/plain": [
              "(tensor([[0.2311, 0.1107, 0.2458, 0.1206],\n",
              "         [0.2129, 0.7111, 0.1304, 0.5766],\n",
              "         [0.2014, 0.8471, 0.5790, 0.3286]]),\n",
              " tensor([[0.4019, 0.8832, 0.3837, 0.6055],\n",
              "         [0.8162, 0.4225, 0.4448, 0.8507],\n",
              "         [0.7307, 0.8227, 0.9568, 0.0853]]))"
            ]
          },
          "metadata": {},
          "execution_count": 39
        }
      ]
    },
    {
      "cell_type": "code",
      "source": [
        "X+Y == X.add(Y) # numpy처럼 행렬 연산 가능. add처럼 함수로도 가능."
      ],
      "metadata": {
        "colab": {
          "base_uri": "https://localhost:8080/"
        },
        "id": "yzGu8v0my_0f",
        "outputId": "42b5c885-2539-442c-a721-13072bc6fa35"
      },
      "execution_count": 40,
      "outputs": [
        {
          "output_type": "execute_result",
          "data": {
            "text/plain": [
              "tensor([[True, True, True, True],\n",
              "        [True, True, True, True],\n",
              "        [True, True, True, True]])"
            ]
          },
          "metadata": {},
          "execution_count": 40
        }
      ]
    },
    {
      "cell_type": "code",
      "source": [
        "X.add_(Y) # 연산 결과가 X로 덮어씌워짐.\n",
        "X"
      ],
      "metadata": {
        "colab": {
          "base_uri": "https://localhost:8080/"
        },
        "id": "LLv3b-nd0E3O",
        "outputId": "c26e4eda-5ed8-4bdc-c056-37440a6cee09"
      },
      "execution_count": 41,
      "outputs": [
        {
          "output_type": "execute_result",
          "data": {
            "text/plain": [
              "tensor([[0.6330, 0.9939, 0.6295, 0.7261],\n",
              "        [1.0291, 1.1336, 0.5752, 1.4272],\n",
              "        [0.9322, 1.6698, 1.5358, 0.4140]])"
            ]
          },
          "metadata": {},
          "execution_count": 41
        }
      ]
    },
    {
      "cell_type": "code",
      "source": [
        "tensor"
      ],
      "metadata": {
        "colab": {
          "base_uri": "https://localhost:8080/"
        },
        "id": "rmVfe0nR0Yf5",
        "outputId": "107a6a76-a07a-4ed2-c398-f8e4d209624b"
      },
      "execution_count": 46,
      "outputs": [
        {
          "output_type": "execute_result",
          "data": {
            "text/plain": [
              "tensor([[101, 102, 103],\n",
              "        [201, 202, 203]])"
            ]
          },
          "metadata": {},
          "execution_count": 46
        }
      ]
    },
    {
      "cell_type": "code",
      "source": [
        "resized_tensor = tensor.view([6])\n",
        "resized_tensor"
      ],
      "metadata": {
        "colab": {
          "base_uri": "https://localhost:8080/"
        },
        "id": "RYrM1QQq1Liw",
        "outputId": "4b0d1351-9d41-485d-f135-926af5e68708"
      },
      "execution_count": 47,
      "outputs": [
        {
          "output_type": "execute_result",
          "data": {
            "text/plain": [
              "tensor([101, 102, 103, 201, 202, 203])"
            ]
          },
          "metadata": {},
          "execution_count": 47
        }
      ]
    },
    {
      "cell_type": "code",
      "source": [
        "resized_tensor = tensor.view([-1, 2, 1]) # -1은 auto\n",
        "resized_tensor"
      ],
      "metadata": {
        "colab": {
          "base_uri": "https://localhost:8080/"
        },
        "id": "P5YUmmIR1T_q",
        "outputId": "9d380e44-9204-4a3a-c397-3be285397a83"
      },
      "execution_count": 49,
      "outputs": [
        {
          "output_type": "execute_result",
          "data": {
            "text/plain": [
              "tensor([[[101],\n",
              "         [102]],\n",
              "\n",
              "        [[103],\n",
              "         [201]],\n",
              "\n",
              "        [[202],\n",
              "         [203]]])"
            ]
          },
          "metadata": {},
          "execution_count": 49
        }
      ]
    },
    {
      "cell_type": "code",
      "source": [
        "np_array = tensor.numpy()\n",
        "np_array"
      ],
      "metadata": {
        "colab": {
          "base_uri": "https://localhost:8080/"
        },
        "id": "hsou8UkM1cRZ",
        "outputId": "11695cb0-a887-498b-829a-6a1134d8b90d"
      },
      "execution_count": 52,
      "outputs": [
        {
          "output_type": "execute_result",
          "data": {
            "text/plain": [
              "array([[101, 102, 103],\n",
              "       [201, 202, 203]])"
            ]
          },
          "metadata": {},
          "execution_count": 52
        }
      ]
    },
    {
      "cell_type": "code",
      "source": [
        "type(np_array)"
      ],
      "metadata": {
        "colab": {
          "base_uri": "https://localhost:8080/"
        },
        "id": "OMjUIR5p1p3r",
        "outputId": "9b027278-257b-447d-b875-c4345f3f7489"
      },
      "execution_count": 53,
      "outputs": [
        {
          "output_type": "execute_result",
          "data": {
            "text/plain": [
              "numpy.ndarray"
            ]
          },
          "metadata": {},
          "execution_count": 53
        }
      ]
    },
    {
      "cell_type": "code",
      "source": [
        "x = torch.ones(1).view(-1,1,1,1,1,1) # 모양이 어떻든\n",
        "x.item() # 숫자가 하나인 텐서를 텐서4가 아닌 값으로 변환해줌"
      ],
      "metadata": {
        "colab": {
          "base_uri": "https://localhost:8080/"
        },
        "id": "2E_b3mNP1vfx",
        "outputId": "46e01e38-7339-4a83-8054-5fdef47c8068"
      },
      "execution_count": 62,
      "outputs": [
        {
          "output_type": "execute_result",
          "data": {
            "text/plain": [
              "1.0"
            ]
          },
          "metadata": {},
          "execution_count": 62
        }
      ]
    },
    {
      "cell_type": "markdown",
      "source": [
        "# 4.2. 역전파"
      ],
      "metadata": {
        "id": "V0fcHdT52WPf"
      }
    },
    {
      "cell_type": "code",
      "source": [],
      "metadata": {
        "id": "i_T7x4nb12TM"
      },
      "execution_count": null,
      "outputs": []
    }
  ]
}