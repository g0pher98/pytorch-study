{
  "nbformat": 4,
  "nbformat_minor": 0,
  "metadata": {
    "colab": {
      "provenance": [],
      "collapsed_sections": [],
      "authorship_tag": "ABX9TyMnjJPMd1OqNXCVH0phOJgj",
      "include_colab_link": true
    },
    "kernelspec": {
      "name": "python3",
      "display_name": "Python 3"
    },
    "language_info": {
      "name": "python"
    },
    "widgets": {
      "application/vnd.jupyter.widget-state+json": {
        "ff51776d281547688f35e1630f517361": {
          "model_module": "@jupyter-widgets/controls",
          "model_name": "HBoxModel",
          "model_module_version": "1.5.0",
          "state": {
            "_dom_classes": [],
            "_model_module": "@jupyter-widgets/controls",
            "_model_module_version": "1.5.0",
            "_model_name": "HBoxModel",
            "_view_count": null,
            "_view_module": "@jupyter-widgets/controls",
            "_view_module_version": "1.5.0",
            "_view_name": "HBoxView",
            "box_style": "",
            "children": [
              "IPY_MODEL_3bc9f5c5ab254c50a126ea75f62823b3",
              "IPY_MODEL_67bd01e352624e63bb4d42a897f11d7a",
              "IPY_MODEL_b03bbe5aad294a029ea6fc579265f4e5"
            ],
            "layout": "IPY_MODEL_9227891334824be99c7e5ba95e074c01"
          }
        },
        "3bc9f5c5ab254c50a126ea75f62823b3": {
          "model_module": "@jupyter-widgets/controls",
          "model_name": "HTMLModel",
          "model_module_version": "1.5.0",
          "state": {
            "_dom_classes": [],
            "_model_module": "@jupyter-widgets/controls",
            "_model_module_version": "1.5.0",
            "_model_name": "HTMLModel",
            "_view_count": null,
            "_view_module": "@jupyter-widgets/controls",
            "_view_module_version": "1.5.0",
            "_view_name": "HTMLView",
            "description": "",
            "description_tooltip": null,
            "layout": "IPY_MODEL_b4dd137afdca48b3855144d24fde39fe",
            "placeholder": "​",
            "style": "IPY_MODEL_5e3167d2e58b4f76bd1947f4e7097b09",
            "value": "100%"
          }
        },
        "67bd01e352624e63bb4d42a897f11d7a": {
          "model_module": "@jupyter-widgets/controls",
          "model_name": "FloatProgressModel",
          "model_module_version": "1.5.0",
          "state": {
            "_dom_classes": [],
            "_model_module": "@jupyter-widgets/controls",
            "_model_module_version": "1.5.0",
            "_model_name": "FloatProgressModel",
            "_view_count": null,
            "_view_module": "@jupyter-widgets/controls",
            "_view_module_version": "1.5.0",
            "_view_name": "ProgressView",
            "bar_style": "success",
            "description": "",
            "description_tooltip": null,
            "layout": "IPY_MODEL_4c390559ada540f3aaaf4e988299afe7",
            "max": 170498071,
            "min": 0,
            "orientation": "horizontal",
            "style": "IPY_MODEL_cf9e0d5202ac43de8f298e61149a3905",
            "value": 170498071
          }
        },
        "b03bbe5aad294a029ea6fc579265f4e5": {
          "model_module": "@jupyter-widgets/controls",
          "model_name": "HTMLModel",
          "model_module_version": "1.5.0",
          "state": {
            "_dom_classes": [],
            "_model_module": "@jupyter-widgets/controls",
            "_model_module_version": "1.5.0",
            "_model_name": "HTMLModel",
            "_view_count": null,
            "_view_module": "@jupyter-widgets/controls",
            "_view_module_version": "1.5.0",
            "_view_name": "HTMLView",
            "description": "",
            "description_tooltip": null,
            "layout": "IPY_MODEL_6cbbd6bbf3a4415780d9b42ecc9ad97e",
            "placeholder": "​",
            "style": "IPY_MODEL_695f2d759eb049bea74a77073c8c4a75",
            "value": " 170498071/170498071 [00:04&lt;00:00, 37536667.44it/s]"
          }
        },
        "9227891334824be99c7e5ba95e074c01": {
          "model_module": "@jupyter-widgets/base",
          "model_name": "LayoutModel",
          "model_module_version": "1.2.0",
          "state": {
            "_model_module": "@jupyter-widgets/base",
            "_model_module_version": "1.2.0",
            "_model_name": "LayoutModel",
            "_view_count": null,
            "_view_module": "@jupyter-widgets/base",
            "_view_module_version": "1.2.0",
            "_view_name": "LayoutView",
            "align_content": null,
            "align_items": null,
            "align_self": null,
            "border": null,
            "bottom": null,
            "display": null,
            "flex": null,
            "flex_flow": null,
            "grid_area": null,
            "grid_auto_columns": null,
            "grid_auto_flow": null,
            "grid_auto_rows": null,
            "grid_column": null,
            "grid_gap": null,
            "grid_row": null,
            "grid_template_areas": null,
            "grid_template_columns": null,
            "grid_template_rows": null,
            "height": null,
            "justify_content": null,
            "justify_items": null,
            "left": null,
            "margin": null,
            "max_height": null,
            "max_width": null,
            "min_height": null,
            "min_width": null,
            "object_fit": null,
            "object_position": null,
            "order": null,
            "overflow": null,
            "overflow_x": null,
            "overflow_y": null,
            "padding": null,
            "right": null,
            "top": null,
            "visibility": null,
            "width": null
          }
        },
        "b4dd137afdca48b3855144d24fde39fe": {
          "model_module": "@jupyter-widgets/base",
          "model_name": "LayoutModel",
          "model_module_version": "1.2.0",
          "state": {
            "_model_module": "@jupyter-widgets/base",
            "_model_module_version": "1.2.0",
            "_model_name": "LayoutModel",
            "_view_count": null,
            "_view_module": "@jupyter-widgets/base",
            "_view_module_version": "1.2.0",
            "_view_name": "LayoutView",
            "align_content": null,
            "align_items": null,
            "align_self": null,
            "border": null,
            "bottom": null,
            "display": null,
            "flex": null,
            "flex_flow": null,
            "grid_area": null,
            "grid_auto_columns": null,
            "grid_auto_flow": null,
            "grid_auto_rows": null,
            "grid_column": null,
            "grid_gap": null,
            "grid_row": null,
            "grid_template_areas": null,
            "grid_template_columns": null,
            "grid_template_rows": null,
            "height": null,
            "justify_content": null,
            "justify_items": null,
            "left": null,
            "margin": null,
            "max_height": null,
            "max_width": null,
            "min_height": null,
            "min_width": null,
            "object_fit": null,
            "object_position": null,
            "order": null,
            "overflow": null,
            "overflow_x": null,
            "overflow_y": null,
            "padding": null,
            "right": null,
            "top": null,
            "visibility": null,
            "width": null
          }
        },
        "5e3167d2e58b4f76bd1947f4e7097b09": {
          "model_module": "@jupyter-widgets/controls",
          "model_name": "DescriptionStyleModel",
          "model_module_version": "1.5.0",
          "state": {
            "_model_module": "@jupyter-widgets/controls",
            "_model_module_version": "1.5.0",
            "_model_name": "DescriptionStyleModel",
            "_view_count": null,
            "_view_module": "@jupyter-widgets/base",
            "_view_module_version": "1.2.0",
            "_view_name": "StyleView",
            "description_width": ""
          }
        },
        "4c390559ada540f3aaaf4e988299afe7": {
          "model_module": "@jupyter-widgets/base",
          "model_name": "LayoutModel",
          "model_module_version": "1.2.0",
          "state": {
            "_model_module": "@jupyter-widgets/base",
            "_model_module_version": "1.2.0",
            "_model_name": "LayoutModel",
            "_view_count": null,
            "_view_module": "@jupyter-widgets/base",
            "_view_module_version": "1.2.0",
            "_view_name": "LayoutView",
            "align_content": null,
            "align_items": null,
            "align_self": null,
            "border": null,
            "bottom": null,
            "display": null,
            "flex": null,
            "flex_flow": null,
            "grid_area": null,
            "grid_auto_columns": null,
            "grid_auto_flow": null,
            "grid_auto_rows": null,
            "grid_column": null,
            "grid_gap": null,
            "grid_row": null,
            "grid_template_areas": null,
            "grid_template_columns": null,
            "grid_template_rows": null,
            "height": null,
            "justify_content": null,
            "justify_items": null,
            "left": null,
            "margin": null,
            "max_height": null,
            "max_width": null,
            "min_height": null,
            "min_width": null,
            "object_fit": null,
            "object_position": null,
            "order": null,
            "overflow": null,
            "overflow_x": null,
            "overflow_y": null,
            "padding": null,
            "right": null,
            "top": null,
            "visibility": null,
            "width": null
          }
        },
        "cf9e0d5202ac43de8f298e61149a3905": {
          "model_module": "@jupyter-widgets/controls",
          "model_name": "ProgressStyleModel",
          "model_module_version": "1.5.0",
          "state": {
            "_model_module": "@jupyter-widgets/controls",
            "_model_module_version": "1.5.0",
            "_model_name": "ProgressStyleModel",
            "_view_count": null,
            "_view_module": "@jupyter-widgets/base",
            "_view_module_version": "1.2.0",
            "_view_name": "StyleView",
            "bar_color": null,
            "description_width": ""
          }
        },
        "6cbbd6bbf3a4415780d9b42ecc9ad97e": {
          "model_module": "@jupyter-widgets/base",
          "model_name": "LayoutModel",
          "model_module_version": "1.2.0",
          "state": {
            "_model_module": "@jupyter-widgets/base",
            "_model_module_version": "1.2.0",
            "_model_name": "LayoutModel",
            "_view_count": null,
            "_view_module": "@jupyter-widgets/base",
            "_view_module_version": "1.2.0",
            "_view_name": "LayoutView",
            "align_content": null,
            "align_items": null,
            "align_self": null,
            "border": null,
            "bottom": null,
            "display": null,
            "flex": null,
            "flex_flow": null,
            "grid_area": null,
            "grid_auto_columns": null,
            "grid_auto_flow": null,
            "grid_auto_rows": null,
            "grid_column": null,
            "grid_gap": null,
            "grid_row": null,
            "grid_template_areas": null,
            "grid_template_columns": null,
            "grid_template_rows": null,
            "height": null,
            "justify_content": null,
            "justify_items": null,
            "left": null,
            "margin": null,
            "max_height": null,
            "max_width": null,
            "min_height": null,
            "min_width": null,
            "object_fit": null,
            "object_position": null,
            "order": null,
            "overflow": null,
            "overflow_x": null,
            "overflow_y": null,
            "padding": null,
            "right": null,
            "top": null,
            "visibility": null,
            "width": null
          }
        },
        "695f2d759eb049bea74a77073c8c4a75": {
          "model_module": "@jupyter-widgets/controls",
          "model_name": "DescriptionStyleModel",
          "model_module_version": "1.5.0",
          "state": {
            "_model_module": "@jupyter-widgets/controls",
            "_model_module_version": "1.5.0",
            "_model_name": "DescriptionStyleModel",
            "_view_count": null,
            "_view_module": "@jupyter-widgets/base",
            "_view_module_version": "1.2.0",
            "_view_name": "StyleView",
            "description_width": ""
          }
        }
      }
    }
  },
  "cells": [
    {
      "cell_type": "markdown",
      "metadata": {
        "id": "view-in-github",
        "colab_type": "text"
      },
      "source": [
        "<a href=\"https://colab.research.google.com/github/g0pher98/pytorch-study/blob/main/chap4_pytorch_basic.ipynb\" target=\"_parent\"><img src=\"https://colab.research.google.com/assets/colab-badge.svg\" alt=\"Open In Colab\"/></a>"
      ]
    },
    {
      "cell_type": "markdown",
      "source": [
        "# 4.1. 텐서\n",
        "텐서 : 파이토치 기본단위. GPU 연산 가능"
      ],
      "metadata": {
        "id": "buV7yfR-vlyJ"
      }
    },
    {
      "cell_type": "code",
      "execution_count": null,
      "metadata": {
        "id": "3zco67GSnvxz",
        "colab": {
          "base_uri": "https://localhost:8080/"
        },
        "outputId": "16a21650-a9c5-4e38-e868-d6e1167f4411"
      },
      "outputs": [
        {
          "output_type": "execute_result",
          "data": {
            "text/plain": [
              "tensor([[5.3829e-35, 0.0000e+00, 0.0000e+00, 0.0000e+00],\n",
              "        [0.0000e+00, 0.0000e+00, 0.0000e+00, 0.0000e+00],\n",
              "        [3.5733e-43, 0.0000e+00, 0.0000e+00, 0.0000e+00],\n",
              "        [0.0000e+00, 0.0000e+00, 0.0000e+00, 0.0000e+00],\n",
              "        [3.5733e-43, 0.0000e+00, 4.9045e-44, 0.0000e+00]])"
            ]
          },
          "metadata": {},
          "execution_count": 1
        }
      ],
      "source": [
        "import numpy as np\n",
        "import torch\n",
        "\n",
        "x = torch.empty(5, 4)\n",
        "x"
      ]
    },
    {
      "cell_type": "markdown",
      "source": [
        "`torch.empty()` 메소드를 통해 5x4 빈 tensor를 만들 수 있음. 초기화 되지 않으면 메모리에 남아있던 값이 나옴."
      ],
      "metadata": {
        "id": "PekTgCOiv1oS"
      }
    },
    {
      "cell_type": "code",
      "source": [
        "torch.ones(2, 3)"
      ],
      "metadata": {
        "colab": {
          "base_uri": "https://localhost:8080/"
        },
        "id": "-HsPElPfvc1L",
        "outputId": "faaa18a7-7401-4464-a3c8-4262df54627c"
      },
      "execution_count": null,
      "outputs": [
        {
          "output_type": "execute_result",
          "data": {
            "text/plain": [
              "tensor([[1., 1., 1.],\n",
              "        [1., 1., 1.]])"
            ]
          },
          "metadata": {},
          "execution_count": 6
        }
      ]
    },
    {
      "cell_type": "code",
      "source": [
        "torch.zeros(2, 3)"
      ],
      "metadata": {
        "colab": {
          "base_uri": "https://localhost:8080/"
        },
        "id": "SS3UulqRwOmb",
        "outputId": "a2dd3f99-69b9-4003-9622-49da41c60cb3"
      },
      "execution_count": null,
      "outputs": [
        {
          "output_type": "execute_result",
          "data": {
            "text/plain": [
              "tensor([[0., 0., 0.],\n",
              "        [0., 0., 0.]])"
            ]
          },
          "metadata": {},
          "execution_count": 7
        }
      ]
    },
    {
      "cell_type": "code",
      "source": [
        "torch.rand(2, 3)"
      ],
      "metadata": {
        "colab": {
          "base_uri": "https://localhost:8080/"
        },
        "id": "evBEKXzewRH4",
        "outputId": "b6b3fa8f-2c0e-440e-e80e-a1342649a3c5"
      },
      "execution_count": null,
      "outputs": [
        {
          "output_type": "execute_result",
          "data": {
            "text/plain": [
              "tensor([[0.2065, 0.3269, 0.1896],\n",
              "        [0.3309, 0.3655, 0.9001]])"
            ]
          },
          "metadata": {},
          "execution_count": 8
        }
      ]
    },
    {
      "cell_type": "code",
      "source": [
        "# list -> numpy -> tensor\n",
        "pylist = [[101, 102, 103], [201, 202, 203]]\n",
        "np_arr = np.array(pylist)\n",
        "\n",
        "tensor_x = torch.tensor(np_arr)\n",
        "tensor_x"
      ],
      "metadata": {
        "colab": {
          "base_uri": "https://localhost:8080/"
        },
        "id": "tsOkcp18whA9",
        "outputId": "bf704479-3518-4e08-f2d6-2671672d133b"
      },
      "execution_count": null,
      "outputs": [
        {
          "output_type": "execute_result",
          "data": {
            "text/plain": [
              "tensor([[101, 102, 103],\n",
              "        [201, 202, 203]])"
            ]
          },
          "metadata": {},
          "execution_count": 21
        }
      ]
    },
    {
      "cell_type": "code",
      "source": [
        "tensor_x.size() # 텐서의 크기"
      ],
      "metadata": {
        "colab": {
          "base_uri": "https://localhost:8080/"
        },
        "id": "Okvmq9QgwzDM",
        "outputId": "4055e9bd-5a01-4a59-ca0a-462955716423"
      },
      "execution_count": null,
      "outputs": [
        {
          "output_type": "execute_result",
          "data": {
            "text/plain": [
              "torch.Size([2, 3])"
            ]
          },
          "metadata": {},
          "execution_count": 22
        }
      ]
    },
    {
      "cell_type": "code",
      "source": [
        "# 파라미터를 넘기거나 크기 데이터의 인덱싱을 이용해서\n",
        "# Size의 특정 값에 접근할 수 있음\n",
        "tensor_x.size(0), tensor_x.size()[1] "
      ],
      "metadata": {
        "colab": {
          "base_uri": "https://localhost:8080/"
        },
        "id": "hHuLI8xVw4s4",
        "outputId": "64c2c061-960d-4416-ec85-787b27d23664"
      },
      "execution_count": null,
      "outputs": [
        {
          "output_type": "execute_result",
          "data": {
            "text/plain": [
              "(2, 3)"
            ]
          },
          "metadata": {},
          "execution_count": 24
        }
      ]
    },
    {
      "cell_type": "code",
      "source": [
        "type(tensor)"
      ],
      "metadata": {
        "colab": {
          "base_uri": "https://localhost:8080/"
        },
        "id": "ZTaFbyRHxJmd",
        "outputId": "8598c377-2e0e-4374-93e0-e227be9e1442"
      },
      "execution_count": null,
      "outputs": [
        {
          "output_type": "execute_result",
          "data": {
            "text/plain": [
              "torch.Tensor"
            ]
          },
          "metadata": {},
          "execution_count": 25
        }
      ]
    },
    {
      "cell_type": "code",
      "source": [
        "X = torch.rand(3, 4)\n",
        "Y = torch.rand(3, 4)\n",
        "\n",
        "X, Y"
      ],
      "metadata": {
        "colab": {
          "base_uri": "https://localhost:8080/"
        },
        "id": "7UH6QXyYy1bS",
        "outputId": "dbac1973-74a0-447d-da87-485de3df5e05"
      },
      "execution_count": null,
      "outputs": [
        {
          "output_type": "execute_result",
          "data": {
            "text/plain": [
              "(tensor([[0.2311, 0.1107, 0.2458, 0.1206],\n",
              "         [0.2129, 0.7111, 0.1304, 0.5766],\n",
              "         [0.2014, 0.8471, 0.5790, 0.3286]]),\n",
              " tensor([[0.4019, 0.8832, 0.3837, 0.6055],\n",
              "         [0.8162, 0.4225, 0.4448, 0.8507],\n",
              "         [0.7307, 0.8227, 0.9568, 0.0853]]))"
            ]
          },
          "metadata": {},
          "execution_count": 39
        }
      ]
    },
    {
      "cell_type": "code",
      "source": [
        "X+Y == X.add(Y) # numpy처럼 행렬 연산 가능. add처럼 함수로도 가능."
      ],
      "metadata": {
        "colab": {
          "base_uri": "https://localhost:8080/"
        },
        "id": "yzGu8v0my_0f",
        "outputId": "42b5c885-2539-442c-a721-13072bc6fa35"
      },
      "execution_count": null,
      "outputs": [
        {
          "output_type": "execute_result",
          "data": {
            "text/plain": [
              "tensor([[True, True, True, True],\n",
              "        [True, True, True, True],\n",
              "        [True, True, True, True]])"
            ]
          },
          "metadata": {},
          "execution_count": 40
        }
      ]
    },
    {
      "cell_type": "code",
      "source": [
        "X.add_(Y) # 연산 결과가 X로 덮어씌워짐.\n",
        "X"
      ],
      "metadata": {
        "colab": {
          "base_uri": "https://localhost:8080/"
        },
        "id": "LLv3b-nd0E3O",
        "outputId": "c26e4eda-5ed8-4bdc-c056-37440a6cee09"
      },
      "execution_count": null,
      "outputs": [
        {
          "output_type": "execute_result",
          "data": {
            "text/plain": [
              "tensor([[0.6330, 0.9939, 0.6295, 0.7261],\n",
              "        [1.0291, 1.1336, 0.5752, 1.4272],\n",
              "        [0.9322, 1.6698, 1.5358, 0.4140]])"
            ]
          },
          "metadata": {},
          "execution_count": 41
        }
      ]
    },
    {
      "cell_type": "code",
      "source": [
        "tensor"
      ],
      "metadata": {
        "colab": {
          "base_uri": "https://localhost:8080/"
        },
        "id": "rmVfe0nR0Yf5",
        "outputId": "107a6a76-a07a-4ed2-c398-f8e4d209624b"
      },
      "execution_count": null,
      "outputs": [
        {
          "output_type": "execute_result",
          "data": {
            "text/plain": [
              "tensor([[101, 102, 103],\n",
              "        [201, 202, 203]])"
            ]
          },
          "metadata": {},
          "execution_count": 46
        }
      ]
    },
    {
      "cell_type": "code",
      "source": [
        "resized_tensor = tensor.view([6])\n",
        "resized_tensor"
      ],
      "metadata": {
        "colab": {
          "base_uri": "https://localhost:8080/"
        },
        "id": "RYrM1QQq1Liw",
        "outputId": "4b0d1351-9d41-485d-f135-926af5e68708"
      },
      "execution_count": null,
      "outputs": [
        {
          "output_type": "execute_result",
          "data": {
            "text/plain": [
              "tensor([101, 102, 103, 201, 202, 203])"
            ]
          },
          "metadata": {},
          "execution_count": 47
        }
      ]
    },
    {
      "cell_type": "code",
      "source": [
        "resized_tensor = tensor.view([-1, 2, 1]) # -1은 auto\n",
        "resized_tensor"
      ],
      "metadata": {
        "colab": {
          "base_uri": "https://localhost:8080/"
        },
        "id": "P5YUmmIR1T_q",
        "outputId": "9d380e44-9204-4a3a-c397-3be285397a83"
      },
      "execution_count": null,
      "outputs": [
        {
          "output_type": "execute_result",
          "data": {
            "text/plain": [
              "tensor([[[101],\n",
              "         [102]],\n",
              "\n",
              "        [[103],\n",
              "         [201]],\n",
              "\n",
              "        [[202],\n",
              "         [203]]])"
            ]
          },
          "metadata": {},
          "execution_count": 49
        }
      ]
    },
    {
      "cell_type": "code",
      "source": [
        "np_array = tensor.numpy()\n",
        "np_array"
      ],
      "metadata": {
        "colab": {
          "base_uri": "https://localhost:8080/"
        },
        "id": "hsou8UkM1cRZ",
        "outputId": "11695cb0-a887-498b-829a-6a1134d8b90d"
      },
      "execution_count": null,
      "outputs": [
        {
          "output_type": "execute_result",
          "data": {
            "text/plain": [
              "array([[101, 102, 103],\n",
              "       [201, 202, 203]])"
            ]
          },
          "metadata": {},
          "execution_count": 52
        }
      ]
    },
    {
      "cell_type": "code",
      "source": [
        "type(np_array)"
      ],
      "metadata": {
        "colab": {
          "base_uri": "https://localhost:8080/"
        },
        "id": "OMjUIR5p1p3r",
        "outputId": "9b027278-257b-447d-b875-c4345f3f7489"
      },
      "execution_count": null,
      "outputs": [
        {
          "output_type": "execute_result",
          "data": {
            "text/plain": [
              "numpy.ndarray"
            ]
          },
          "metadata": {},
          "execution_count": 53
        }
      ]
    },
    {
      "cell_type": "code",
      "source": [
        "x = torch.ones(1).view(-1,1,1,1,1,1) # 모양이 어떻든\n",
        "x.item() # 숫자가 하나인 텐서를 텐서4가 아닌 값으로 변환해줌"
      ],
      "metadata": {
        "colab": {
          "base_uri": "https://localhost:8080/"
        },
        "id": "2E_b3mNP1vfx",
        "outputId": "46e01e38-7339-4a83-8054-5fdef47c8068"
      },
      "execution_count": null,
      "outputs": [
        {
          "output_type": "execute_result",
          "data": {
            "text/plain": [
              "1.0"
            ]
          },
          "metadata": {},
          "execution_count": 62
        }
      ]
    },
    {
      "cell_type": "markdown",
      "source": [
        "# 4.2. 역전파"
      ],
      "metadata": {
        "id": "V0fcHdT52WPf"
      }
    },
    {
      "cell_type": "markdown",
      "source": [
        "학습이 잘 되기 위해 모델 파라미터를 최적화하는데, 여기에 사용되는게 미분의 성질을 이용한 역전파.\n",
        "\n",
        "모델이 복잡해질수록 계산 과정이 복잡해져서 코드를 구현하기에는 어려움이있다. 파이토치는 간단하게 이를 구현할 수 있는 다양한 최적화 방법을 제공한다."
      ],
      "metadata": {
        "id": "GfEdp7H1y9jg"
      }
    },
    {
      "cell_type": "code",
      "source": [
        "'''\n",
        "그래디언트 텐서\n",
        "'''\n",
        "import torch\n",
        "\n",
        "# requires_grad : 해당 텐서를 기준으로 모든 연산을 추적\n",
        "x = torch.ones(2, 2, requires_grad=True)\n",
        "x"
      ],
      "metadata": {
        "id": "i_T7x4nb12TM",
        "outputId": "6f7b6928-56a2-49e8-f2f4-db8bc9973617",
        "colab": {
          "base_uri": "https://localhost:8080/"
        }
      },
      "execution_count": null,
      "outputs": [
        {
          "output_type": "execute_result",
          "data": {
            "text/plain": [
              "tensor([[1., 1.],\n",
              "        [1., 1.]], requires_grad=True)"
            ]
          },
          "metadata": {},
          "execution_count": 27
        }
      ]
    },
    {
      "cell_type": "code",
      "source": [
        "y = x + 1\n",
        "y"
      ],
      "metadata": {
        "id": "ESU1W1YqzrV-",
        "outputId": "03639e6d-7274-4c25-b6fa-0ef363f39393",
        "colab": {
          "base_uri": "https://localhost:8080/"
        }
      },
      "execution_count": null,
      "outputs": [
        {
          "output_type": "execute_result",
          "data": {
            "text/plain": [
              "tensor([[2., 2.],\n",
              "        [2., 2.]], grad_fn=<AddBackward0>)"
            ]
          },
          "metadata": {},
          "execution_count": 28
        }
      ]
    },
    {
      "cell_type": "code",
      "source": [
        "z = 2*(y**2)\n",
        "z"
      ],
      "metadata": {
        "id": "ndMqwpzM0om-",
        "outputId": "b76dd193-eeea-4d02-fe6a-7b90df83aeeb",
        "colab": {
          "base_uri": "https://localhost:8080/"
        }
      },
      "execution_count": null,
      "outputs": [
        {
          "output_type": "execute_result",
          "data": {
            "text/plain": [
              "tensor([[8., 8.],\n",
              "        [8., 8.]], grad_fn=<MulBackward0>)"
            ]
          },
          "metadata": {},
          "execution_count": 29
        }
      ]
    },
    {
      "cell_type": "code",
      "source": [
        "r = z.mean()\n",
        "r"
      ],
      "metadata": {
        "id": "wbFRBhoY0qWk",
        "outputId": "9ad43131-a5fc-4da9-b101-4943a0a3ea77",
        "colab": {
          "base_uri": "https://localhost:8080/"
        }
      },
      "execution_count": null,
      "outputs": [
        {
          "output_type": "execute_result",
          "data": {
            "text/plain": [
              "tensor(8., grad_fn=<MeanBackward0>)"
            ]
          },
          "metadata": {},
          "execution_count": 30
        }
      ]
    },
    {
      "cell_type": "code",
      "source": [
        "r.backward()\n",
        "x.grad"
      ],
      "metadata": {
        "id": "U62D0k4S0w8s",
        "outputId": "468e8fb0-3fa4-490c-96e1-132045ed6a22",
        "colab": {
          "base_uri": "https://localhost:8080/"
        }
      },
      "execution_count": null,
      "outputs": [
        {
          "output_type": "execute_result",
          "data": {
            "text/plain": [
              "tensor([[2., 2.],\n",
              "        [2., 2.]])"
            ]
          },
          "metadata": {},
          "execution_count": 31
        }
      ]
    },
    {
      "cell_type": "markdown",
      "source": [
        "`r.backward()`는 r을 기준으로 역전파를 진행하겠다는 의미.\n",
        "- $r=\\frac{z_1+z_2+z_3+z_4}{4}$\n",
        "- $z_i=2y_i^2=2(x_i+1)^2$\n",
        "- $\\frac{dr}{dx_i}=x_i+1$\n",
        "\n",
        "따라서 미분 결과는 모두 2가 된다."
      ],
      "metadata": {
        "id": "bpxt_Y4a1Yrp"
      }
    },
    {
      "cell_type": "code",
      "source": [
        "'''\n",
        "자동 미분 - 선형회귀 식\n",
        "'''\n",
        "import torch\n",
        "from matplotlib import pyplot as plt\n",
        "\n",
        "x = torch.FloatTensor(range(5)).unsqueeze(1) # 2차원으로 reshape\n",
        "x, x.shape"
      ],
      "metadata": {
        "id": "voJvLBLs1ABS",
        "outputId": "a685efcd-4221-43a8-8308-1bfb5cfc0db8",
        "colab": {
          "base_uri": "https://localhost:8080/"
        }
      },
      "execution_count": null,
      "outputs": [
        {
          "output_type": "execute_result",
          "data": {
            "text/plain": [
              "(tensor([[0.],\n",
              "         [1.],\n",
              "         [2.],\n",
              "         [3.],\n",
              "         [4.]]), torch.Size([5, 1]))"
            ]
          },
          "metadata": {},
          "execution_count": 33
        }
      ]
    },
    {
      "cell_type": "code",
      "source": [
        "y = 2*x + torch.rand(5, 1)\n",
        "y"
      ],
      "metadata": {
        "id": "f9luB6nF1BRR",
        "outputId": "3a06c0f5-45f6-4f8a-9ea7-a4db32ed7e0e",
        "colab": {
          "base_uri": "https://localhost:8080/"
        }
      },
      "execution_count": null,
      "outputs": [
        {
          "output_type": "execute_result",
          "data": {
            "text/plain": [
              "tensor([[0.8850],\n",
              "        [2.3931],\n",
              "        [4.5562],\n",
              "        [6.1175],\n",
              "        [8.7100]])"
            ]
          },
          "metadata": {},
          "execution_count": 34
        }
      ]
    },
    {
      "cell_type": "code",
      "source": [
        "# instance가 5개, feature가 1개\n",
        "num_features = x.shape[1]"
      ],
      "metadata": {
        "id": "IxLaPPFF4lTD"
      },
      "execution_count": null,
      "outputs": []
    },
    {
      "cell_type": "code",
      "source": [
        "# y=wx+b. 일단 초기값은 테스트니까 랜덤으로.\n",
        "w = torch.randn(num_features, 1, requires_grad=True) # (5,1)\n",
        "b = torch.randn(1, requires_grad=True)"
      ],
      "metadata": {
        "id": "uH-Ia7CJ4yzU"
      },
      "execution_count": null,
      "outputs": []
    },
    {
      "cell_type": "code",
      "source": [
        "# 가중치 업데이트는 Stochastic Gradient Descent(SGD) 알고리즘 사용.\n",
        "optimizer = torch.optim.SGD([w, b], lr=1e-3)"
      ],
      "metadata": {
        "id": "nVBIbsuY8BoR"
      },
      "execution_count": null,
      "outputs": []
    },
    {
      "cell_type": "code",
      "source": [
        "loss_stack = []\n",
        "for epoch in range(1001):\n",
        "  optimizer.zero_grad() # 최적화 계산 과정에서 누적된 값을 초기화.\n",
        "  y_hat = torch.matmul(x, w) + b\n",
        "  loss = torch.mean((y_hat - y) ** 2) # MSE Loss 값 계산\n",
        "  loss.backward() # loss tensor를 기준으로 역전파\n",
        "  optimizer.step() # 최적화 시행\n",
        "  loss_stack.append(loss.item())\n",
        "\n",
        "  if epoch % 100 == 0:\n",
        "    print(f\"Epoch {epoch:5d}: {loss.item()}\")"
      ],
      "metadata": {
        "id": "Yxm2ZoBh8j-d",
        "outputId": "c8b1f7b5-b7f1-4767-cc53-859f9ce77677",
        "colab": {
          "base_uri": "https://localhost:8080/"
        }
      },
      "execution_count": null,
      "outputs": [
        {
          "output_type": "stream",
          "name": "stdout",
          "text": [
            "Epoch     0: 30.915943145751953\n",
            "Epoch   100: 2.8283164501190186\n",
            "Epoch   200: 0.8606087565422058\n",
            "Epoch   300: 0.6592422723770142\n",
            "Epoch   400: 0.5844942927360535\n",
            "Epoch   500: 0.5251542329788208\n",
            "Epoch   600: 0.4729638695716858\n",
            "Epoch   700: 0.42667970061302185\n",
            "Epoch   800: 0.3856072723865509\n",
            "Epoch   900: 0.34915822744369507\n",
            "Epoch  1000: 0.31681153178215027\n"
          ]
        }
      ]
    },
    {
      "cell_type": "code",
      "source": [
        "with torch.no_grad(): # requires_grad가 동작하지 않는 상태에서 코드 실행\n",
        "  y_hat = torch.matmul(x, w) + b"
      ],
      "metadata": {
        "id": "s4yftfWSSIZu"
      },
      "execution_count": null,
      "outputs": []
    },
    {
      "cell_type": "code",
      "source": [
        "plt.figure(figsize=(15, 5))\n",
        "\n",
        "plt.subplot(121)\n",
        "plt.plot(loss_stack)\n",
        "plt.title(\"Loss\")\n",
        "\n",
        "plt.subplot(122)\n",
        "plt.plot(x, y, '.b')\n",
        "plt.plot(x, y_hat, 'r-')\n",
        "plt.legend(['ground truth', 'prediction'])\n",
        "plt.title(\"Prediction\")\n",
        "\n",
        "plt.show()"
      ],
      "metadata": {
        "id": "AkUqkRjRPWC3",
        "outputId": "8c4670b1-25dd-487f-f7d8-e3e0f9522bda",
        "colab": {
          "base_uri": "https://localhost:8080/",
          "height": 336
        }
      },
      "execution_count": null,
      "outputs": [
        {
          "output_type": "display_data",
          "data": {
            "text/plain": [
              "<Figure size 1080x360 with 2 Axes>"
            ],
            "image/png": "[encoded data removed]"
          },
          "metadata": {
            "needs_background": "light"
          }
        }
      ]
    },
    {
      "cell_type": "markdown",
      "source": [
        "# 4.3. 데이터 불러오기"
      ],
      "metadata": {
        "id": "tItM-EOeTPHI"
      }
    },
    {
      "cell_type": "code",
      "source": [
        "'''\n",
        "4.3.1. 파이토치 제공 데이터 사용\n",
        "'''\n",
        "import torch\n",
        "import torchvision # 비전 관련\n",
        "import torchvision.transforms as tr # 비전 전처리 관련\n",
        "from torch.utils.data import DataLoader, Dataset # 데이터 가공\n",
        "import numpy as np\n",
        "import matplotlib.pyplot as plt"
      ],
      "metadata": {
        "id": "zGIMbbSORkwf"
      },
      "execution_count": 1,
      "outputs": []
    },
    {
      "cell_type": "code",
      "source": [
        "transf = tr.Compose([ # 전처리 과정을 Compose로 원툴로 만듦\n",
        "    tr.Resize((16, 16)),\n",
        "    tr.ToTensor()\n",
        "])\n",
        "transf"
      ],
      "metadata": {
        "id": "H-LNRo7vTq7i",
        "outputId": "58244931-0be1-4c03-e1c4-24aded150de0",
        "colab": {
          "base_uri": "https://localhost:8080/"
        }
      },
      "execution_count": 2,
      "outputs": [
        {
          "output_type": "execute_result",
          "data": {
            "text/plain": [
              "Compose(\n",
              "    Resize(size=(16, 16), interpolation=bilinear, max_size=None, antialias=None)\n",
              "    ToTensor()\n",
              ")"
            ]
          },
          "metadata": {},
          "execution_count": 2
        }
      ]
    },
    {
      "cell_type": "code",
      "source": [
        "# torchvision.datasets 에서 제공하는 CIFAR 이미지 데이터셋 다운로드.\n",
        "trainset = torchvision.datasets.CIFAR10(root='./data', train=True, download=True, transform=transf)\n",
        "testset  = torchvision.datasets.CIFAR10(root='./data', train=False, download=True, transform=transf)\n",
        "\n",
        "trainset"
      ],
      "metadata": {
        "id": "6CYdDz1RT0cy",
        "outputId": "16f37235-83b6-4075-ea73-87507efd6eaa",
        "colab": {
          "base_uri": "https://localhost:8080/",
          "height": 264,
          "referenced_widgets": [
            "ff51776d281547688f35e1630f517361",
            "3bc9f5c5ab254c50a126ea75f62823b3",
            "67bd01e352624e63bb4d42a897f11d7a",
            "b03bbe5aad294a029ea6fc579265f4e5",
            "9227891334824be99c7e5ba95e074c01",
            "b4dd137afdca48b3855144d24fde39fe",
            "5e3167d2e58b4f76bd1947f4e7097b09",
            "4c390559ada540f3aaaf4e988299afe7",
            "cf9e0d5202ac43de8f298e61149a3905",
            "6cbbd6bbf3a4415780d9b42ecc9ad97e",
            "695f2d759eb049bea74a77073c8c4a75"
          ]
        }
      },
      "execution_count": 3,
      "outputs": [
        {
          "output_type": "stream",
          "name": "stdout",
          "text": [
            "Downloading https://www.cs.toronto.edu/~kriz/cifar-10-python.tar.gz to ./data/cifar-10-python.tar.gz\n"
          ]
        },
        {
          "output_type": "display_data",
          "data": {
            "text/plain": [
              "  0%|          | 0/170498071 [00:00<?, ?it/s]"
            ],
            "application/vnd.jupyter.widget-view+json": {
              "version_major": 2,
              "version_minor": 0,
              "model_id": "ff51776d281547688f35e1630f517361"
            }
          },
          "metadata": {}
        },
        {
          "output_type": "stream",
          "name": "stdout",
          "text": [
            "Extracting ./data/cifar-10-python.tar.gz to ./data\n",
            "Files already downloaded and verified\n"
          ]
        },
        {
          "output_type": "execute_result",
          "data": {
            "text/plain": [
              "Dataset CIFAR10\n",
              "    Number of datapoints: 50000\n",
              "    Root location: ./data\n",
              "    Split: Train\n",
              "    StandardTransform\n",
              "Transform: Compose(\n",
              "               Resize(size=(16, 16), interpolation=bilinear, max_size=None, antialias=None)\n",
              "               ToTensor()\n",
              "           )"
            ]
          },
          "metadata": {},
          "execution_count": 3
        }
      ]
    },
    {
      "cell_type": "code",
      "source": [
        "print(type(trainset)) # ==> tuple (dataset, label)\n",
        "trainset[0][0].size() # 채널 정보가 맨 앞에 온다,,! @_@ 헷갈리것다,,"
      ],
      "metadata": {
        "id": "Qwxgf_nvUiMA",
        "outputId": "ed34048d-a5f5-4db3-ea3a-f634dedd70fb",
        "colab": {
          "base_uri": "https://localhost:8080/"
        }
      },
      "execution_count": 4,
      "outputs": [
        {
          "output_type": "stream",
          "name": "stdout",
          "text": [
            "<class 'torchvision.datasets.cifar.CIFAR10'>\n"
          ]
        },
        {
          "output_type": "execute_result",
          "data": {
            "text/plain": [
              "torch.Size([3, 16, 16])"
            ]
          },
          "metadata": {},
          "execution_count": 4
        }
      ]
    },
    {
      "cell_type": "code",
      "source": [
        "# DataLoader는 데이터를 미니배치 형태로 만들어줌. batch size나 shuffle 여부를 설정할 수 있음.\n",
        "trainloader = DataLoader(trainset, batch_size=50, shuffle=True)\n",
        "testloader = DataLoader(testset, batch_size=50, shuffle=True)\n",
        "\n",
        "trainloader"
      ],
      "metadata": {
        "id": "IqaZQwdZVArl",
        "outputId": "bf1746e7-2303-4892-f2dd-b903828f4228",
        "colab": {
          "base_uri": "https://localhost:8080/"
        }
      },
      "execution_count": 5,
      "outputs": [
        {
          "output_type": "execute_result",
          "data": {
            "text/plain": [
              "<torch.utils.data.dataloader.DataLoader at 0x7ff57f86ec50>"
            ]
          },
          "metadata": {},
          "execution_count": 5
        }
      ]
    },
    {
      "cell_type": "code",
      "source": [
        "len(trainloader) # 5만장 / batch_size(50) = 1000"
      ],
      "metadata": {
        "id": "TOECrugkXGVY",
        "outputId": "747fdd83-1920-42d6-c000-79ab55344205",
        "colab": {
          "base_uri": "https://localhost:8080/"
        }
      },
      "execution_count": 6,
      "outputs": [
        {
          "output_type": "execute_result",
          "data": {
            "text/plain": [
              "1000"
            ]
          },
          "metadata": {},
          "execution_count": 6
        }
      ]
    },
    {
      "cell_type": "code",
      "source": [
        "images, labels = iter(trainloader).next() # 첫 번째 batch를 load\n",
        "images.size() # 16x16 resized image 50장을 얻을 수 있음"
      ],
      "metadata": {
        "id": "kllkT5XyXORu",
        "outputId": "7e0b4ab5-3ac0-44cd-c283-c3fdfedb5360",
        "colab": {
          "base_uri": "https://localhost:8080/"
        }
      },
      "execution_count": 7,
      "outputs": [
        {
          "output_type": "execute_result",
          "data": {
            "text/plain": [
              "torch.Size([50, 3, 16, 16])"
            ]
          },
          "metadata": {},
          "execution_count": 7
        }
      ]
    },
    {
      "cell_type": "code",
      "source": [
        "oneshot = images[1].permute(1,2,0).numpy() # permute로 index 위치를 바꾼다. 채널을 가장 뒤로!\n",
        "plt.figure(figsize=(2, 2))\n",
        "plt.imshow(oneshot)\n",
        "plt.axis('off')\n",
        "plt.show()"
      ],
      "metadata": {
        "id": "s_YBadrJX0tZ",
        "outputId": "c7b69ee1-7c74-42d3-d827-9ee90c7c82ac",
        "colab": {
          "base_uri": "https://localhost:8080/",
          "height": 140
        }
      },
      "execution_count": 8,
      "outputs": [
        {
          "output_type": "display_data",
          "data": {
            "text/plain": [
              "<Figure size 144x144 with 1 Axes>"
            ],
            "image/png": "[encoded data removed]"
          },
          "metadata": {
            "needs_background": "light"
          }
        }
      ]
    },
    {
      "cell_type": "code",
      "source": [
        "'''\n",
        "4.3.2. 같은 클래스 별로 폴더를 정리한 경우\n",
        "\n",
        "    - 별도의 라벨링 없이 폴더별로 자동 라벨링됨.\n",
        "'''\n",
        "transf = tr.Compose([tr.Resize(128), tr.ToTensor()])\n",
        "\n",
        "# 예시 데이터가 없어서 주석처리. 상황에 맞게 사용하면 될듯.\n",
        "\n",
        "#trainset = torchvision.datasets.ImageFolder(root='./class', transform=transf)\n",
        "#trainloader = DataLoader(trainset, batch_size=1, shuffle=False)"
      ],
      "metadata": {
        "id": "_WsfAg2DbLsj"
      },
      "execution_count": 10,
      "outputs": []
    },
    {
      "cell_type": "code",
      "source": [
        "'''\n",
        "4.3.3. 정리되지 않은 커스텀 데이터 불러오기\n",
        "\n",
        "    - 메소드로 해결이 안되는 구조의 데이터인 경우 필요.\n",
        "'''\n",
        "\n",
        "class CustomData(Dataset):\n",
        "  ''' 커스텀 데이터를 로드하는 클래스 '''\n",
        "\n",
        "  def __init__(self, x_data, y_data):\n",
        "    self.x_data = torch.FloatTensor(x_data)\n",
        "    self.x_data = self.x_data.permute(0,3,1,2) # 채널 값을 앞으로 옮긴다.\n",
        "    self.y_data = torch.LongTensor(y_data)\n",
        "    self.len = self.y_data.shape[0]\n",
        "\n",
        "  def __getitem__(self, index):\n",
        "    return self.x_data[index], self.y_data[index]\n",
        "  \n",
        "  def __len__(self):\n",
        "    return self.len"
      ],
      "metadata": {
        "id": "druOHV64cFH6"
      },
      "execution_count": 11,
      "outputs": []
    },
    {
      "cell_type": "code",
      "source": [
        "train_images = np.random.randint(256, size=(100, 32, 32, 3)) / 255\n",
        "train_labels = np.random.randint(2, size=(100, 1))\n",
        "\n",
        "# 커스텀 클래스를 이용해서 데이터셋으로 만듦\n",
        "trainset = CustomData(train_images, train_labels)\n",
        "trainloader = DataLoader(trainset, batch_size=10, shuffle=False)\n",
        "\n",
        "trainloader"
      ],
      "metadata": {
        "id": "TU1owYUIemQj",
        "outputId": "fe8189d3-c658-46e0-a3db-0700f6e4c9e9",
        "colab": {
          "base_uri": "https://localhost:8080/"
        }
      },
      "execution_count": 14,
      "outputs": [
        {
          "output_type": "execute_result",
          "data": {
            "text/plain": [
              "<torch.utils.data.dataloader.DataLoader at 0x7ff575e2c150>"
            ]
          },
          "metadata": {},
          "execution_count": 14
        }
      ]
    },
    {
      "cell_type": "code",
      "source": [
        "'''\n",
        "4.3.4. 커스텀 데이터와 커스텀 전처리 사용하기\n",
        "'''\n",
        "\n",
        "# 커스텀 전처리 클래스를 생성해서 tr.Compose([ToTensor(), CutOut()])를 완성시킨다.\n",
        "\n",
        "class ToTensor:\n",
        "  \n",
        "  def __call__(self, sample):\n",
        "    inputs, labels = sample\n",
        "    inputs = torch.FloatTensor(inputs)\n",
        "    inputs = inputs.permute(2, 0, 1) # 채널 값을 앞으로 옮김.\n",
        "    return inputs, torch.LongTensor(labels)"
      ],
      "metadata": {
        "id": "uPO1_OYkfDdY"
      },
      "execution_count": 15,
      "outputs": []
    },
    {
      "cell_type": "code",
      "source": [
        "class CutOut:\n",
        "  ''' \n",
        "  cutout\n",
        "    : 이미지 내부에 무작위의 사각형 영역을 선택하여 0으로 만듦.\n",
        "      => 데이터 증식 방법 중 하나.\n",
        "  '''\n",
        "\n",
        "  def __init__(self, ratio=.5):\n",
        "    self.ratio = int(1/ratio)\n",
        "  \n",
        "  def __call__(self, sample):\n",
        "    inputs, lables = smaple\n",
        "    active = int(np.random.randint(0, self.ratio, 1))\n",
        "\n",
        "    if active == 0:\n",
        "      _, w, h = inputs.size()\n",
        "      min_len = min(w, h)\n",
        "      box_size = int(min_len // 4)\n",
        "      idx = int(np.random.randint(0, min_len-box_size, 1))\n",
        "      inputs[:,idx:idx+box_size,idx:idx+box_size] = 0\n",
        "\n",
        "    return inputs, labels"
      ],
      "metadata": {
        "id": "4g3viUSEmQJE"
      },
      "execution_count": 17,
      "outputs": []
    },
    {
      "cell_type": "code",
      "source": [],
      "metadata": {
        "id": "ZmbiFvrcm1a6"
      },
      "execution_count": null,
      "outputs": []
    }
  ]
}